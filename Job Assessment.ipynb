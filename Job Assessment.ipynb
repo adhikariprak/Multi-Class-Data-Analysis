{
 "cells": [
  {
   "cell_type": "code",
   "execution_count": 1,
   "metadata": {},
   "outputs": [],
   "source": [
    "import pandas as pd\n",
    "import numpy as np\n",
    "import csv\n",
    "import os\n",
    "import tensorflow as tf"
   ]
  },
  {
   "cell_type": "code",
   "execution_count": 2,
   "metadata": {},
   "outputs": [],
   "source": [
    "import seaborn as sns\n",
    "import matplotlib.pyplot as plt\n",
    "%matplotlib inline"
   ]
  },
  {
   "cell_type": "code",
   "execution_count": 3,
   "metadata": {},
   "outputs": [
    {
     "data": {
      "text/html": [
       "<div>\n",
       "<style scoped>\n",
       "    .dataframe tbody tr th:only-of-type {\n",
       "        vertical-align: middle;\n",
       "    }\n",
       "\n",
       "    .dataframe tbody tr th {\n",
       "        vertical-align: top;\n",
       "    }\n",
       "\n",
       "    .dataframe thead th {\n",
       "        text-align: right;\n",
       "    }\n",
       "</style>\n",
       "<table border=\"1\" class=\"dataframe\">\n",
       "  <thead>\n",
       "    <tr style=\"text-align: right;\">\n",
       "      <th></th>\n",
       "      <th>id</th>\n",
       "      <th>feature0</th>\n",
       "      <th>feature1</th>\n",
       "      <th>feature2</th>\n",
       "      <th>feature3</th>\n",
       "      <th>feature4</th>\n",
       "      <th>feature5</th>\n",
       "      <th>feature6</th>\n",
       "      <th>feature7</th>\n",
       "      <th>feature8</th>\n",
       "      <th>...</th>\n",
       "      <th>feature241</th>\n",
       "      <th>feature242</th>\n",
       "      <th>feature243</th>\n",
       "      <th>feature244</th>\n",
       "      <th>feature245</th>\n",
       "      <th>feature246</th>\n",
       "      <th>feature247</th>\n",
       "      <th>feature248</th>\n",
       "      <th>feature249</th>\n",
       "      <th>label</th>\n",
       "    </tr>\n",
       "  </thead>\n",
       "  <tbody>\n",
       "    <tr>\n",
       "      <th>0</th>\n",
       "      <td>0</td>\n",
       "      <td>25.208249</td>\n",
       "      <td>-16.745748</td>\n",
       "      <td>50.869944</td>\n",
       "      <td>5.593472</td>\n",
       "      <td>1.188263</td>\n",
       "      <td>-6.014167</td>\n",
       "      <td>15.922007</td>\n",
       "      <td>-42.026918</td>\n",
       "      <td>-0.064017</td>\n",
       "      <td>...</td>\n",
       "      <td>6.731995</td>\n",
       "      <td>4.805149</td>\n",
       "      <td>-9.682240</td>\n",
       "      <td>-8.771275</td>\n",
       "      <td>159.124491</td>\n",
       "      <td>3.682115</td>\n",
       "      <td>-4.938090</td>\n",
       "      <td>130.068955</td>\n",
       "      <td>-8.231081</td>\n",
       "      <td>1</td>\n",
       "    </tr>\n",
       "    <tr>\n",
       "      <th>1</th>\n",
       "      <td>1</td>\n",
       "      <td>-86.931450</td>\n",
       "      <td>0.428227</td>\n",
       "      <td>2.874836</td>\n",
       "      <td>-8.064850</td>\n",
       "      <td>6.056867</td>\n",
       "      <td>6.124567</td>\n",
       "      <td>2.527879</td>\n",
       "      <td>-9.277728</td>\n",
       "      <td>-7.586313</td>\n",
       "      <td>...</td>\n",
       "      <td>-6.274857</td>\n",
       "      <td>-9.967576</td>\n",
       "      <td>-70.256324</td>\n",
       "      <td>-5.278519</td>\n",
       "      <td>-53.004625</td>\n",
       "      <td>6.484784</td>\n",
       "      <td>-6.389429</td>\n",
       "      <td>-26.164277</td>\n",
       "      <td>-4.909740</td>\n",
       "      <td>2</td>\n",
       "    </tr>\n",
       "    <tr>\n",
       "      <th>2</th>\n",
       "      <td>2</td>\n",
       "      <td>42.160934</td>\n",
       "      <td>7.857013</td>\n",
       "      <td>151.612757</td>\n",
       "      <td>9.639676</td>\n",
       "      <td>5.570139</td>\n",
       "      <td>-3.261364</td>\n",
       "      <td>10.814200</td>\n",
       "      <td>-37.394430</td>\n",
       "      <td>-5.791044</td>\n",
       "      <td>...</td>\n",
       "      <td>9.362207</td>\n",
       "      <td>18.524639</td>\n",
       "      <td>39.445002</td>\n",
       "      <td>-1.980687</td>\n",
       "      <td>-7.543595</td>\n",
       "      <td>-1.971843</td>\n",
       "      <td>8.034066</td>\n",
       "      <td>120.510705</td>\n",
       "      <td>7.754377</td>\n",
       "      <td>0</td>\n",
       "    </tr>\n",
       "    <tr>\n",
       "      <th>3</th>\n",
       "      <td>3</td>\n",
       "      <td>20.666944</td>\n",
       "      <td>8.680642</td>\n",
       "      <td>-56.449179</td>\n",
       "      <td>-9.814780</td>\n",
       "      <td>-2.382979</td>\n",
       "      <td>-14.596355</td>\n",
       "      <td>-3.621941</td>\n",
       "      <td>49.598995</td>\n",
       "      <td>11.138753</td>\n",
       "      <td>...</td>\n",
       "      <td>0.035327</td>\n",
       "      <td>11.019507</td>\n",
       "      <td>-2.254336</td>\n",
       "      <td>2.216576</td>\n",
       "      <td>65.238695</td>\n",
       "      <td>7.029985</td>\n",
       "      <td>8.940062</td>\n",
       "      <td>-40.426248</td>\n",
       "      <td>5.557970</td>\n",
       "      <td>1</td>\n",
       "    </tr>\n",
       "    <tr>\n",
       "      <th>4</th>\n",
       "      <td>4</td>\n",
       "      <td>35.946679</td>\n",
       "      <td>4.573736</td>\n",
       "      <td>-28.160212</td>\n",
       "      <td>-6.912971</td>\n",
       "      <td>4.879375</td>\n",
       "      <td>-0.131064</td>\n",
       "      <td>-2.509488</td>\n",
       "      <td>10.334908</td>\n",
       "      <td>-1.738533</td>\n",
       "      <td>...</td>\n",
       "      <td>-14.119385</td>\n",
       "      <td>-12.166055</td>\n",
       "      <td>50.745103</td>\n",
       "      <td>-2.205711</td>\n",
       "      <td>69.052119</td>\n",
       "      <td>-6.407847</td>\n",
       "      <td>3.399937</td>\n",
       "      <td>-23.468499</td>\n",
       "      <td>-11.269110</td>\n",
       "      <td>0</td>\n",
       "    </tr>\n",
       "  </tbody>\n",
       "</table>\n",
       "<p>5 rows × 252 columns</p>\n",
       "</div>"
      ],
      "text/plain": [
       "   id   feature0   feature1    feature2  feature3  feature4   feature5  \\\n",
       "0   0  25.208249 -16.745748   50.869944  5.593472  1.188263  -6.014167   \n",
       "1   1 -86.931450   0.428227    2.874836 -8.064850  6.056867   6.124567   \n",
       "2   2  42.160934   7.857013  151.612757  9.639676  5.570139  -3.261364   \n",
       "3   3  20.666944   8.680642  -56.449179 -9.814780 -2.382979 -14.596355   \n",
       "4   4  35.946679   4.573736  -28.160212 -6.912971  4.879375  -0.131064   \n",
       "\n",
       "    feature6   feature7   feature8  ...  feature241  feature242  feature243  \\\n",
       "0  15.922007 -42.026918  -0.064017  ...    6.731995    4.805149   -9.682240   \n",
       "1   2.527879  -9.277728  -7.586313  ...   -6.274857   -9.967576  -70.256324   \n",
       "2  10.814200 -37.394430  -5.791044  ...    9.362207   18.524639   39.445002   \n",
       "3  -3.621941  49.598995  11.138753  ...    0.035327   11.019507   -2.254336   \n",
       "4  -2.509488  10.334908  -1.738533  ...  -14.119385  -12.166055   50.745103   \n",
       "\n",
       "   feature244  feature245  feature246  feature247  feature248  feature249  \\\n",
       "0   -8.771275  159.124491    3.682115   -4.938090  130.068955   -8.231081   \n",
       "1   -5.278519  -53.004625    6.484784   -6.389429  -26.164277   -4.909740   \n",
       "2   -1.980687   -7.543595   -1.971843    8.034066  120.510705    7.754377   \n",
       "3    2.216576   65.238695    7.029985    8.940062  -40.426248    5.557970   \n",
       "4   -2.205711   69.052119   -6.407847    3.399937  -23.468499  -11.269110   \n",
       "\n",
       "   label  \n",
       "0      1  \n",
       "1      2  \n",
       "2      0  \n",
       "3      1  \n",
       "4      0  \n",
       "\n",
       "[5 rows x 252 columns]"
      ]
     },
     "execution_count": 3,
     "metadata": {},
     "output_type": "execute_result"
    }
   ],
   "source": [
    "train = pd.read_csv(\"train.csv\")\n",
    "train.head()\n",
    "\n"
   ]
  },
  {
   "cell_type": "code",
   "execution_count": 4,
   "metadata": {},
   "outputs": [
    {
     "data": {
      "text/plain": [
       "array([1, 2, 0, 4, 3], dtype=int64)"
      ]
     },
     "execution_count": 4,
     "metadata": {},
     "output_type": "execute_result"
    }
   ],
   "source": [
    "train['label'].unique()"
   ]
  },
  {
   "cell_type": "code",
   "execution_count": 5,
   "metadata": {},
   "outputs": [
    {
     "data": {
      "text/plain": [
       "(7200, 252)"
      ]
     },
     "execution_count": 5,
     "metadata": {},
     "output_type": "execute_result"
    }
   ],
   "source": [
    "train.shape"
   ]
  },
  {
   "cell_type": "code",
   "execution_count": 6,
   "metadata": {},
   "outputs": [],
   "source": [
    "#sns.barplot(x='label', y ='feature0',data= train)"
   ]
  },
  {
   "cell_type": "code",
   "execution_count": 7,
   "metadata": {},
   "outputs": [],
   "source": [
    "#sns.barplot(x='label', y ='feature1',data= train)"
   ]
  },
  {
   "cell_type": "markdown",
   "metadata": {},
   "source": [
    "Lets seperate the features and class (label) so that we can build PCA model on features"
   ]
  },
  {
   "cell_type": "code",
   "execution_count": 8,
   "metadata": {},
   "outputs": [
    {
     "data": {
      "text/html": [
       "<div>\n",
       "<style scoped>\n",
       "    .dataframe tbody tr th:only-of-type {\n",
       "        vertical-align: middle;\n",
       "    }\n",
       "\n",
       "    .dataframe tbody tr th {\n",
       "        vertical-align: top;\n",
       "    }\n",
       "\n",
       "    .dataframe thead th {\n",
       "        text-align: right;\n",
       "    }\n",
       "</style>\n",
       "<table border=\"1\" class=\"dataframe\">\n",
       "  <thead>\n",
       "    <tr style=\"text-align: right;\">\n",
       "      <th></th>\n",
       "      <th>feature0</th>\n",
       "      <th>feature1</th>\n",
       "      <th>feature2</th>\n",
       "      <th>feature3</th>\n",
       "      <th>feature4</th>\n",
       "      <th>feature5</th>\n",
       "      <th>feature6</th>\n",
       "      <th>feature7</th>\n",
       "      <th>feature8</th>\n",
       "      <th>feature9</th>\n",
       "      <th>...</th>\n",
       "      <th>feature240</th>\n",
       "      <th>feature241</th>\n",
       "      <th>feature242</th>\n",
       "      <th>feature243</th>\n",
       "      <th>feature244</th>\n",
       "      <th>feature245</th>\n",
       "      <th>feature246</th>\n",
       "      <th>feature247</th>\n",
       "      <th>feature248</th>\n",
       "      <th>feature249</th>\n",
       "    </tr>\n",
       "  </thead>\n",
       "  <tbody>\n",
       "    <tr>\n",
       "      <th>0</th>\n",
       "      <td>25.208249</td>\n",
       "      <td>-16.745748</td>\n",
       "      <td>50.869944</td>\n",
       "      <td>5.593472</td>\n",
       "      <td>1.188263</td>\n",
       "      <td>-6.014167</td>\n",
       "      <td>15.922007</td>\n",
       "      <td>-42.026918</td>\n",
       "      <td>-0.064017</td>\n",
       "      <td>-6.492815</td>\n",
       "      <td>...</td>\n",
       "      <td>-10.528125</td>\n",
       "      <td>6.731995</td>\n",
       "      <td>4.805149</td>\n",
       "      <td>-9.682240</td>\n",
       "      <td>-8.771275</td>\n",
       "      <td>159.124491</td>\n",
       "      <td>3.682115</td>\n",
       "      <td>-4.938090</td>\n",
       "      <td>130.068955</td>\n",
       "      <td>-8.231081</td>\n",
       "    </tr>\n",
       "    <tr>\n",
       "      <th>1</th>\n",
       "      <td>-86.931450</td>\n",
       "      <td>0.428227</td>\n",
       "      <td>2.874836</td>\n",
       "      <td>-8.064850</td>\n",
       "      <td>6.056867</td>\n",
       "      <td>6.124567</td>\n",
       "      <td>2.527879</td>\n",
       "      <td>-9.277728</td>\n",
       "      <td>-7.586313</td>\n",
       "      <td>-1.802893</td>\n",
       "      <td>...</td>\n",
       "      <td>-5.154289</td>\n",
       "      <td>-6.274857</td>\n",
       "      <td>-9.967576</td>\n",
       "      <td>-70.256324</td>\n",
       "      <td>-5.278519</td>\n",
       "      <td>-53.004625</td>\n",
       "      <td>6.484784</td>\n",
       "      <td>-6.389429</td>\n",
       "      <td>-26.164277</td>\n",
       "      <td>-4.909740</td>\n",
       "    </tr>\n",
       "    <tr>\n",
       "      <th>2</th>\n",
       "      <td>42.160934</td>\n",
       "      <td>7.857013</td>\n",
       "      <td>151.612757</td>\n",
       "      <td>9.639676</td>\n",
       "      <td>5.570139</td>\n",
       "      <td>-3.261364</td>\n",
       "      <td>10.814200</td>\n",
       "      <td>-37.394430</td>\n",
       "      <td>-5.791044</td>\n",
       "      <td>0.073638</td>\n",
       "      <td>...</td>\n",
       "      <td>5.789345</td>\n",
       "      <td>9.362207</td>\n",
       "      <td>18.524639</td>\n",
       "      <td>39.445002</td>\n",
       "      <td>-1.980687</td>\n",
       "      <td>-7.543595</td>\n",
       "      <td>-1.971843</td>\n",
       "      <td>8.034066</td>\n",
       "      <td>120.510705</td>\n",
       "      <td>7.754377</td>\n",
       "    </tr>\n",
       "    <tr>\n",
       "      <th>3</th>\n",
       "      <td>20.666944</td>\n",
       "      <td>8.680642</td>\n",
       "      <td>-56.449179</td>\n",
       "      <td>-9.814780</td>\n",
       "      <td>-2.382979</td>\n",
       "      <td>-14.596355</td>\n",
       "      <td>-3.621941</td>\n",
       "      <td>49.598995</td>\n",
       "      <td>11.138753</td>\n",
       "      <td>-7.247519</td>\n",
       "      <td>...</td>\n",
       "      <td>11.307874</td>\n",
       "      <td>0.035327</td>\n",
       "      <td>11.019507</td>\n",
       "      <td>-2.254336</td>\n",
       "      <td>2.216576</td>\n",
       "      <td>65.238695</td>\n",
       "      <td>7.029985</td>\n",
       "      <td>8.940062</td>\n",
       "      <td>-40.426248</td>\n",
       "      <td>5.557970</td>\n",
       "    </tr>\n",
       "    <tr>\n",
       "      <th>4</th>\n",
       "      <td>35.946679</td>\n",
       "      <td>4.573736</td>\n",
       "      <td>-28.160212</td>\n",
       "      <td>-6.912971</td>\n",
       "      <td>4.879375</td>\n",
       "      <td>-0.131064</td>\n",
       "      <td>-2.509488</td>\n",
       "      <td>10.334908</td>\n",
       "      <td>-1.738533</td>\n",
       "      <td>-3.376448</td>\n",
       "      <td>...</td>\n",
       "      <td>9.468723</td>\n",
       "      <td>-14.119385</td>\n",
       "      <td>-12.166055</td>\n",
       "      <td>50.745103</td>\n",
       "      <td>-2.205711</td>\n",
       "      <td>69.052119</td>\n",
       "      <td>-6.407847</td>\n",
       "      <td>3.399937</td>\n",
       "      <td>-23.468499</td>\n",
       "      <td>-11.269110</td>\n",
       "    </tr>\n",
       "  </tbody>\n",
       "</table>\n",
       "<p>5 rows × 250 columns</p>\n",
       "</div>"
      ],
      "text/plain": [
       "    feature0   feature1    feature2  feature3  feature4   feature5   feature6  \\\n",
       "0  25.208249 -16.745748   50.869944  5.593472  1.188263  -6.014167  15.922007   \n",
       "1 -86.931450   0.428227    2.874836 -8.064850  6.056867   6.124567   2.527879   \n",
       "2  42.160934   7.857013  151.612757  9.639676  5.570139  -3.261364  10.814200   \n",
       "3  20.666944   8.680642  -56.449179 -9.814780 -2.382979 -14.596355  -3.621941   \n",
       "4  35.946679   4.573736  -28.160212 -6.912971  4.879375  -0.131064  -2.509488   \n",
       "\n",
       "    feature7   feature8  feature9  ...  feature240  feature241  feature242  \\\n",
       "0 -42.026918  -0.064017 -6.492815  ...  -10.528125    6.731995    4.805149   \n",
       "1  -9.277728  -7.586313 -1.802893  ...   -5.154289   -6.274857   -9.967576   \n",
       "2 -37.394430  -5.791044  0.073638  ...    5.789345    9.362207   18.524639   \n",
       "3  49.598995  11.138753 -7.247519  ...   11.307874    0.035327   11.019507   \n",
       "4  10.334908  -1.738533 -3.376448  ...    9.468723  -14.119385  -12.166055   \n",
       "\n",
       "   feature243  feature244  feature245  feature246  feature247  feature248  \\\n",
       "0   -9.682240   -8.771275  159.124491    3.682115   -4.938090  130.068955   \n",
       "1  -70.256324   -5.278519  -53.004625    6.484784   -6.389429  -26.164277   \n",
       "2   39.445002   -1.980687   -7.543595   -1.971843    8.034066  120.510705   \n",
       "3   -2.254336    2.216576   65.238695    7.029985    8.940062  -40.426248   \n",
       "4   50.745103   -2.205711   69.052119   -6.407847    3.399937  -23.468499   \n",
       "\n",
       "   feature249  \n",
       "0   -8.231081  \n",
       "1   -4.909740  \n",
       "2    7.754377  \n",
       "3    5.557970  \n",
       "4  -11.269110  \n",
       "\n",
       "[5 rows x 250 columns]"
      ]
     },
     "execution_count": 8,
     "metadata": {},
     "output_type": "execute_result"
    }
   ],
   "source": [
    "varib_train = train[train.columns[1:251]]\n",
    "varib_train.head()"
   ]
  },
  {
   "cell_type": "code",
   "execution_count": 9,
   "metadata": {},
   "outputs": [
    {
     "data": {
      "text/plain": [
       "0    1\n",
       "1    2\n",
       "2    0\n",
       "3    1\n",
       "4    0\n",
       "Name: label, dtype: int64"
      ]
     },
     "execution_count": 9,
     "metadata": {},
     "output_type": "execute_result"
    }
   ],
   "source": [
    "label_train = train[train.columns[251]]\n",
    "label_train.head()"
   ]
  },
  {
   "cell_type": "markdown",
   "metadata": {},
   "source": [
    "### Train and Validation data split"
   ]
  },
  {
   "cell_type": "code",
   "execution_count": 10,
   "metadata": {},
   "outputs": [
    {
     "data": {
      "text/html": [
       "<div>\n",
       "<style scoped>\n",
       "    .dataframe tbody tr th:only-of-type {\n",
       "        vertical-align: middle;\n",
       "    }\n",
       "\n",
       "    .dataframe tbody tr th {\n",
       "        vertical-align: top;\n",
       "    }\n",
       "\n",
       "    .dataframe thead th {\n",
       "        text-align: right;\n",
       "    }\n",
       "</style>\n",
       "<table border=\"1\" class=\"dataframe\">\n",
       "  <thead>\n",
       "    <tr style=\"text-align: right;\">\n",
       "      <th></th>\n",
       "      <th>label</th>\n",
       "    </tr>\n",
       "  </thead>\n",
       "  <tbody>\n",
       "    <tr>\n",
       "      <th>0</th>\n",
       "      <td>1</td>\n",
       "    </tr>\n",
       "    <tr>\n",
       "      <th>1</th>\n",
       "      <td>2</td>\n",
       "    </tr>\n",
       "    <tr>\n",
       "      <th>2</th>\n",
       "      <td>0</td>\n",
       "    </tr>\n",
       "    <tr>\n",
       "      <th>3</th>\n",
       "      <td>1</td>\n",
       "    </tr>\n",
       "    <tr>\n",
       "      <th>4</th>\n",
       "      <td>0</td>\n",
       "    </tr>\n",
       "  </tbody>\n",
       "</table>\n",
       "</div>"
      ],
      "text/plain": [
       "   label\n",
       "0      1\n",
       "1      2\n",
       "2      0\n",
       "3      1\n",
       "4      0"
      ]
     },
     "execution_count": 10,
     "metadata": {},
     "output_type": "execute_result"
    }
   ],
   "source": [
    "label_train = pd.DataFrame(label_train)\n",
    "label_train.head()"
   ]
  },
  {
   "cell_type": "code",
   "execution_count": 11,
   "metadata": {},
   "outputs": [
    {
     "data": {
      "text/plain": [
       "2    1485\n",
       "4    1460\n",
       "1    1426\n",
       "0    1419\n",
       "3    1410\n",
       "Name: label, dtype: int64"
      ]
     },
     "execution_count": 11,
     "metadata": {},
     "output_type": "execute_result"
    }
   ],
   "source": [
    "label_train['label'].value_counts()"
   ]
  },
  {
   "cell_type": "code",
   "execution_count": 12,
   "metadata": {},
   "outputs": [],
   "source": [
    "exp_vals = [1419, 1426, 1485, 1410, 1460  ]\n",
    "exp_labels = [0, 1, 2, 3, 4]"
   ]
  },
  {
   "cell_type": "code",
   "execution_count": 13,
   "metadata": {},
   "outputs": [
    {
     "data": {
      "image/png": "[encoded data removed]",
      "text/plain": [
       "<Figure size 432x288 with 1 Axes>"
      ]
     },
     "metadata": {},
     "output_type": "display_data"
    }
   ],
   "source": [
    "plt.axis('equal')\n",
    "plt.pie(exp_vals, labels=exp_labels, radius = 2, autopct = '%0.1f%%', explode =[0, 0.1, 0, 0.1, 0.1])\n",
    "plt.title('Class Imbalance')\n",
    "\n",
    "plt.show()"
   ]
  },
  {
   "cell_type": "code",
   "execution_count": 16,
   "metadata": {},
   "outputs": [
    {
     "data": {
      "image/png": "[encoded data removed]",
      "text/plain": [
       "<Figure size 432x288 with 1 Axes>"
      ]
     },
     "metadata": {
      "needs_background": "light"
     },
     "output_type": "display_data"
    }
   ],
   "source": [
    "objects = ('0', '1', '2', '3', '4')\n",
    "y_pos = np.arange(len(objects))\n",
    "performance = [1419, 1426, 1485, 1410, 1460]\n",
    "\n",
    "plt.bar(y_pos, performance, align='center', alpha=1)\n",
    "plt.yticks(y_pos, objects)\n",
    "plt.xlabel('Labels')\n",
    "plt.title('Class Imbalance')\n",
    "\n",
    "plt.show()"
   ]
  },
  {
   "cell_type": "markdown",
   "metadata": {},
   "source": [
    "Here the class is almost balanced, so no need to stratify the dataset while splitting into train and test."
   ]
  },
  {
   "cell_type": "code",
   "execution_count": 17,
   "metadata": {},
   "outputs": [],
   "source": [
    "# fix random seed for reproducibility\n",
    "seed=123\n",
    "np.random.seed(seed)\n",
    "tf.set_random_seed(seed)"
   ]
  },
  {
   "cell_type": "code",
   "execution_count": 18,
   "metadata": {},
   "outputs": [],
   "source": [
    "from sklearn.model_selection import train_test_split\n",
    "\n",
    "X_train, X_valid, y_train, y_valid = train_test_split(varib_train, label_train, test_size=0.2, random_state=42)"
   ]
  },
  {
   "cell_type": "code",
   "execution_count": null,
   "metadata": {},
   "outputs": [],
   "source": []
  },
  {
   "cell_type": "markdown",
   "metadata": {},
   "source": [
    "### PCA\n",
    "Let us first perform Principal Component Analysis (Maximizing Variance), so that we can get dimensional reduction."
   ]
  },
  {
   "cell_type": "code",
   "execution_count": 19,
   "metadata": {},
   "outputs": [],
   "source": [
    "from sklearn.preprocessing import StandardScaler\n",
    "\n",
    "# Standardizing the features\n",
    "scaled_varib = StandardScaler().fit_transform(X_train)"
   ]
  },
  {
   "cell_type": "code",
   "execution_count": 20,
   "metadata": {},
   "outputs": [
    {
     "data": {
      "text/html": [
       "<div>\n",
       "<style scoped>\n",
       "    .dataframe tbody tr th:only-of-type {\n",
       "        vertical-align: middle;\n",
       "    }\n",
       "\n",
       "    .dataframe tbody tr th {\n",
       "        vertical-align: top;\n",
       "    }\n",
       "\n",
       "    .dataframe thead th {\n",
       "        text-align: right;\n",
       "    }\n",
       "</style>\n",
       "<table border=\"1\" class=\"dataframe\">\n",
       "  <thead>\n",
       "    <tr style=\"text-align: right;\">\n",
       "      <th></th>\n",
       "      <th>feature0</th>\n",
       "      <th>feature1</th>\n",
       "      <th>feature2</th>\n",
       "      <th>feature3</th>\n",
       "      <th>feature4</th>\n",
       "      <th>feature5</th>\n",
       "      <th>feature6</th>\n",
       "      <th>feature7</th>\n",
       "      <th>feature8</th>\n",
       "      <th>feature9</th>\n",
       "      <th>...</th>\n",
       "      <th>feature240</th>\n",
       "      <th>feature241</th>\n",
       "      <th>feature242</th>\n",
       "      <th>feature243</th>\n",
       "      <th>feature244</th>\n",
       "      <th>feature245</th>\n",
       "      <th>feature246</th>\n",
       "      <th>feature247</th>\n",
       "      <th>feature248</th>\n",
       "      <th>feature249</th>\n",
       "    </tr>\n",
       "  </thead>\n",
       "  <tbody>\n",
       "    <tr>\n",
       "      <th>0</th>\n",
       "      <td>-0.103911</td>\n",
       "      <td>0.580217</td>\n",
       "      <td>0.791684</td>\n",
       "      <td>-0.305096</td>\n",
       "      <td>-0.283777</td>\n",
       "      <td>1.552766</td>\n",
       "      <td>1.270944</td>\n",
       "      <td>0.841305</td>\n",
       "      <td>-0.515524</td>\n",
       "      <td>-0.352533</td>\n",
       "      <td>...</td>\n",
       "      <td>0.262068</td>\n",
       "      <td>1.040084</td>\n",
       "      <td>0.865269</td>\n",
       "      <td>2.278405</td>\n",
       "      <td>0.074957</td>\n",
       "      <td>-0.079620</td>\n",
       "      <td>-0.507741</td>\n",
       "      <td>0.114135</td>\n",
       "      <td>-1.773332</td>\n",
       "      <td>2.812978</td>\n",
       "    </tr>\n",
       "    <tr>\n",
       "      <th>1</th>\n",
       "      <td>-0.452833</td>\n",
       "      <td>1.156868</td>\n",
       "      <td>-0.145495</td>\n",
       "      <td>-0.272935</td>\n",
       "      <td>-2.427290</td>\n",
       "      <td>-1.785263</td>\n",
       "      <td>-0.298835</td>\n",
       "      <td>1.822623</td>\n",
       "      <td>1.603742</td>\n",
       "      <td>0.191305</td>\n",
       "      <td>...</td>\n",
       "      <td>0.533965</td>\n",
       "      <td>-0.225482</td>\n",
       "      <td>0.336538</td>\n",
       "      <td>-1.072022</td>\n",
       "      <td>-1.215299</td>\n",
       "      <td>1.000497</td>\n",
       "      <td>0.359937</td>\n",
       "      <td>0.588426</td>\n",
       "      <td>0.295056</td>\n",
       "      <td>0.454704</td>\n",
       "    </tr>\n",
       "    <tr>\n",
       "      <th>2</th>\n",
       "      <td>-0.534376</td>\n",
       "      <td>0.105881</td>\n",
       "      <td>0.649357</td>\n",
       "      <td>-1.157160</td>\n",
       "      <td>0.458578</td>\n",
       "      <td>-1.386874</td>\n",
       "      <td>0.502823</td>\n",
       "      <td>0.132731</td>\n",
       "      <td>-0.103855</td>\n",
       "      <td>0.712001</td>\n",
       "      <td>...</td>\n",
       "      <td>-1.969917</td>\n",
       "      <td>-0.327913</td>\n",
       "      <td>-0.062628</td>\n",
       "      <td>-0.594551</td>\n",
       "      <td>0.026148</td>\n",
       "      <td>0.856512</td>\n",
       "      <td>-1.231724</td>\n",
       "      <td>-0.783023</td>\n",
       "      <td>-1.730236</td>\n",
       "      <td>-0.840952</td>\n",
       "    </tr>\n",
       "    <tr>\n",
       "      <th>3</th>\n",
       "      <td>-0.312397</td>\n",
       "      <td>-2.514176</td>\n",
       "      <td>0.016537</td>\n",
       "      <td>0.897882</td>\n",
       "      <td>1.385167</td>\n",
       "      <td>-0.378515</td>\n",
       "      <td>-1.139866</td>\n",
       "      <td>-0.369244</td>\n",
       "      <td>-0.995283</td>\n",
       "      <td>-0.409179</td>\n",
       "      <td>...</td>\n",
       "      <td>0.535813</td>\n",
       "      <td>-0.461490</td>\n",
       "      <td>-0.550720</td>\n",
       "      <td>-0.320459</td>\n",
       "      <td>-0.499465</td>\n",
       "      <td>-0.633241</td>\n",
       "      <td>-1.559511</td>\n",
       "      <td>1.093014</td>\n",
       "      <td>-0.347714</td>\n",
       "      <td>-0.967533</td>\n",
       "    </tr>\n",
       "    <tr>\n",
       "      <th>4</th>\n",
       "      <td>0.323985</td>\n",
       "      <td>-1.662819</td>\n",
       "      <td>-0.390268</td>\n",
       "      <td>0.119913</td>\n",
       "      <td>-0.576780</td>\n",
       "      <td>0.446372</td>\n",
       "      <td>1.327566</td>\n",
       "      <td>-0.311707</td>\n",
       "      <td>0.879125</td>\n",
       "      <td>-0.324593</td>\n",
       "      <td>...</td>\n",
       "      <td>2.953627</td>\n",
       "      <td>-0.328189</td>\n",
       "      <td>1.152142</td>\n",
       "      <td>0.760618</td>\n",
       "      <td>0.776657</td>\n",
       "      <td>1.008135</td>\n",
       "      <td>-0.455803</td>\n",
       "      <td>-1.108925</td>\n",
       "      <td>0.119106</td>\n",
       "      <td>-0.533218</td>\n",
       "    </tr>\n",
       "    <tr>\n",
       "      <th>5</th>\n",
       "      <td>-0.411566</td>\n",
       "      <td>0.602862</td>\n",
       "      <td>-0.581797</td>\n",
       "      <td>-1.334528</td>\n",
       "      <td>0.152150</td>\n",
       "      <td>0.725512</td>\n",
       "      <td>-1.003607</td>\n",
       "      <td>0.936758</td>\n",
       "      <td>-0.024633</td>\n",
       "      <td>0.574655</td>\n",
       "      <td>...</td>\n",
       "      <td>0.278763</td>\n",
       "      <td>1.824477</td>\n",
       "      <td>1.248823</td>\n",
       "      <td>0.311082</td>\n",
       "      <td>0.266513</td>\n",
       "      <td>-0.403851</td>\n",
       "      <td>0.699479</td>\n",
       "      <td>-0.270720</td>\n",
       "      <td>-0.220804</td>\n",
       "      <td>0.170208</td>\n",
       "    </tr>\n",
       "    <tr>\n",
       "      <th>6</th>\n",
       "      <td>2.146870</td>\n",
       "      <td>-0.652982</td>\n",
       "      <td>1.168117</td>\n",
       "      <td>-0.811244</td>\n",
       "      <td>-0.712792</td>\n",
       "      <td>1.393956</td>\n",
       "      <td>1.237284</td>\n",
       "      <td>-0.857700</td>\n",
       "      <td>-0.652324</td>\n",
       "      <td>0.541043</td>\n",
       "      <td>...</td>\n",
       "      <td>0.601382</td>\n",
       "      <td>-0.934225</td>\n",
       "      <td>-0.173960</td>\n",
       "      <td>0.122413</td>\n",
       "      <td>-0.572021</td>\n",
       "      <td>-0.782811</td>\n",
       "      <td>0.325515</td>\n",
       "      <td>0.378928</td>\n",
       "      <td>-1.243596</td>\n",
       "      <td>0.034585</td>\n",
       "    </tr>\n",
       "    <tr>\n",
       "      <th>7</th>\n",
       "      <td>0.908853</td>\n",
       "      <td>0.870767</td>\n",
       "      <td>1.224585</td>\n",
       "      <td>-1.424621</td>\n",
       "      <td>0.281221</td>\n",
       "      <td>1.094680</td>\n",
       "      <td>-1.718731</td>\n",
       "      <td>0.518474</td>\n",
       "      <td>-0.519265</td>\n",
       "      <td>-1.895902</td>\n",
       "      <td>...</td>\n",
       "      <td>-0.122109</td>\n",
       "      <td>0.836715</td>\n",
       "      <td>0.581610</td>\n",
       "      <td>0.909378</td>\n",
       "      <td>-1.199361</td>\n",
       "      <td>-2.430653</td>\n",
       "      <td>-1.356299</td>\n",
       "      <td>0.527627</td>\n",
       "      <td>-0.876173</td>\n",
       "      <td>0.183232</td>\n",
       "    </tr>\n",
       "    <tr>\n",
       "      <th>8</th>\n",
       "      <td>-2.037733</td>\n",
       "      <td>-0.968552</td>\n",
       "      <td>0.431957</td>\n",
       "      <td>-0.080994</td>\n",
       "      <td>1.189603</td>\n",
       "      <td>1.290962</td>\n",
       "      <td>0.155344</td>\n",
       "      <td>1.034065</td>\n",
       "      <td>-0.136677</td>\n",
       "      <td>0.498806</td>\n",
       "      <td>...</td>\n",
       "      <td>1.000715</td>\n",
       "      <td>-0.957169</td>\n",
       "      <td>1.050153</td>\n",
       "      <td>-0.576062</td>\n",
       "      <td>-0.236101</td>\n",
       "      <td>-0.080911</td>\n",
       "      <td>-1.233018</td>\n",
       "      <td>0.331769</td>\n",
       "      <td>-2.946349</td>\n",
       "      <td>-0.198277</td>\n",
       "    </tr>\n",
       "    <tr>\n",
       "      <th>9</th>\n",
       "      <td>0.035131</td>\n",
       "      <td>0.290861</td>\n",
       "      <td>0.372490</td>\n",
       "      <td>0.571664</td>\n",
       "      <td>-1.770878</td>\n",
       "      <td>0.691864</td>\n",
       "      <td>-0.339462</td>\n",
       "      <td>0.970113</td>\n",
       "      <td>-0.846051</td>\n",
       "      <td>-0.317712</td>\n",
       "      <td>...</td>\n",
       "      <td>0.538656</td>\n",
       "      <td>-0.233342</td>\n",
       "      <td>-1.154521</td>\n",
       "      <td>-0.518282</td>\n",
       "      <td>-0.106411</td>\n",
       "      <td>0.585982</td>\n",
       "      <td>-0.927008</td>\n",
       "      <td>1.700596</td>\n",
       "      <td>0.428401</td>\n",
       "      <td>1.889362</td>\n",
       "    </tr>\n",
       "  </tbody>\n",
       "</table>\n",
       "<p>10 rows × 250 columns</p>\n",
       "</div>"
      ],
      "text/plain": [
       "   feature0  feature1  feature2  feature3  feature4  feature5  feature6  \\\n",
       "0 -0.103911  0.580217  0.791684 -0.305096 -0.283777  1.552766  1.270944   \n",
       "1 -0.452833  1.156868 -0.145495 -0.272935 -2.427290 -1.785263 -0.298835   \n",
       "2 -0.534376  0.105881  0.649357 -1.157160  0.458578 -1.386874  0.502823   \n",
       "3 -0.312397 -2.514176  0.016537  0.897882  1.385167 -0.378515 -1.139866   \n",
       "4  0.323985 -1.662819 -0.390268  0.119913 -0.576780  0.446372  1.327566   \n",
       "5 -0.411566  0.602862 -0.581797 -1.334528  0.152150  0.725512 -1.003607   \n",
       "6  2.146870 -0.652982  1.168117 -0.811244 -0.712792  1.393956  1.237284   \n",
       "7  0.908853  0.870767  1.224585 -1.424621  0.281221  1.094680 -1.718731   \n",
       "8 -2.037733 -0.968552  0.431957 -0.080994  1.189603  1.290962  0.155344   \n",
       "9  0.035131  0.290861  0.372490  0.571664 -1.770878  0.691864 -0.339462   \n",
       "\n",
       "   feature7  feature8  feature9  ...  feature240  feature241  feature242  \\\n",
       "0  0.841305 -0.515524 -0.352533  ...    0.262068    1.040084    0.865269   \n",
       "1  1.822623  1.603742  0.191305  ...    0.533965   -0.225482    0.336538   \n",
       "2  0.132731 -0.103855  0.712001  ...   -1.969917   -0.327913   -0.062628   \n",
       "3 -0.369244 -0.995283 -0.409179  ...    0.535813   -0.461490   -0.550720   \n",
       "4 -0.311707  0.879125 -0.324593  ...    2.953627   -0.328189    1.152142   \n",
       "5  0.936758 -0.024633  0.574655  ...    0.278763    1.824477    1.248823   \n",
       "6 -0.857700 -0.652324  0.541043  ...    0.601382   -0.934225   -0.173960   \n",
       "7  0.518474 -0.519265 -1.895902  ...   -0.122109    0.836715    0.581610   \n",
       "8  1.034065 -0.136677  0.498806  ...    1.000715   -0.957169    1.050153   \n",
       "9  0.970113 -0.846051 -0.317712  ...    0.538656   -0.233342   -1.154521   \n",
       "\n",
       "   feature243  feature244  feature245  feature246  feature247  feature248  \\\n",
       "0    2.278405    0.074957   -0.079620   -0.507741    0.114135   -1.773332   \n",
       "1   -1.072022   -1.215299    1.000497    0.359937    0.588426    0.295056   \n",
       "2   -0.594551    0.026148    0.856512   -1.231724   -0.783023   -1.730236   \n",
       "3   -0.320459   -0.499465   -0.633241   -1.559511    1.093014   -0.347714   \n",
       "4    0.760618    0.776657    1.008135   -0.455803   -1.108925    0.119106   \n",
       "5    0.311082    0.266513   -0.403851    0.699479   -0.270720   -0.220804   \n",
       "6    0.122413   -0.572021   -0.782811    0.325515    0.378928   -1.243596   \n",
       "7    0.909378   -1.199361   -2.430653   -1.356299    0.527627   -0.876173   \n",
       "8   -0.576062   -0.236101   -0.080911   -1.233018    0.331769   -2.946349   \n",
       "9   -0.518282   -0.106411    0.585982   -0.927008    1.700596    0.428401   \n",
       "\n",
       "   feature249  \n",
       "0    2.812978  \n",
       "1    0.454704  \n",
       "2   -0.840952  \n",
       "3   -0.967533  \n",
       "4   -0.533218  \n",
       "5    0.170208  \n",
       "6    0.034585  \n",
       "7    0.183232  \n",
       "8   -0.198277  \n",
       "9    1.889362  \n",
       "\n",
       "[10 rows x 250 columns]"
      ]
     },
     "execution_count": 20,
     "metadata": {},
     "output_type": "execute_result"
    }
   ],
   "source": [
    "featu = pd.DataFrame(scaled_varib, columns = varib_train.columns)\n",
    "featu.head(10)"
   ]
  },
  {
   "cell_type": "code",
   "execution_count": 21,
   "metadata": {},
   "outputs": [],
   "source": [
    "#featu.to_csv('featu.csv')"
   ]
  },
  {
   "cell_type": "markdown",
   "metadata": {},
   "source": [
    "lets figure out minimun number of Principal Components which can explain explains 95 % of variance"
   ]
  },
  {
   "cell_type": "code",
   "execution_count": 22,
   "metadata": {},
   "outputs": [],
   "source": [
    "from sklearn.decomposition import PCA\n",
    "\n",
    "pca = PCA(.95)"
   ]
  },
  {
   "cell_type": "code",
   "execution_count": 23,
   "metadata": {},
   "outputs": [
    {
     "data": {
      "text/plain": [
       "PCA(copy=True, iterated_power='auto', n_components=0.95, random_state=None,\n",
       "  svd_solver='auto', tol=0.0, whiten=False)"
      ]
     },
     "execution_count": 23,
     "metadata": {},
     "output_type": "execute_result"
    }
   ],
   "source": [
    "pca.fit(featu)"
   ]
  },
  {
   "cell_type": "code",
   "execution_count": 24,
   "metadata": {},
   "outputs": [
    {
     "data": {
      "text/plain": [
       "171"
      ]
     },
     "execution_count": 24,
     "metadata": {},
     "output_type": "execute_result"
    }
   ],
   "source": [
    "pca.n_components_"
   ]
  },
  {
   "cell_type": "markdown",
   "metadata": {},
   "source": [
    "171 Principal Components are sufficient to explain 95 % of the variance."
   ]
  },
  {
   "cell_type": "markdown",
   "metadata": {},
   "source": [
    "Lets transform the training data and concat with the label "
   ]
  },
  {
   "cell_type": "code",
   "execution_count": 25,
   "metadata": {},
   "outputs": [
    {
     "data": {
      "text/html": [
       "<div>\n",
       "<style scoped>\n",
       "    .dataframe tbody tr th:only-of-type {\n",
       "        vertical-align: middle;\n",
       "    }\n",
       "\n",
       "    .dataframe tbody tr th {\n",
       "        vertical-align: top;\n",
       "    }\n",
       "\n",
       "    .dataframe thead th {\n",
       "        text-align: right;\n",
       "    }\n",
       "</style>\n",
       "<table border=\"1\" class=\"dataframe\">\n",
       "  <thead>\n",
       "    <tr style=\"text-align: right;\">\n",
       "      <th></th>\n",
       "      <th>0</th>\n",
       "      <th>1</th>\n",
       "      <th>2</th>\n",
       "      <th>3</th>\n",
       "      <th>4</th>\n",
       "      <th>5</th>\n",
       "      <th>6</th>\n",
       "      <th>7</th>\n",
       "      <th>8</th>\n",
       "      <th>9</th>\n",
       "      <th>...</th>\n",
       "      <th>161</th>\n",
       "      <th>162</th>\n",
       "      <th>163</th>\n",
       "      <th>164</th>\n",
       "      <th>165</th>\n",
       "      <th>166</th>\n",
       "      <th>167</th>\n",
       "      <th>168</th>\n",
       "      <th>169</th>\n",
       "      <th>170</th>\n",
       "    </tr>\n",
       "  </thead>\n",
       "  <tbody>\n",
       "    <tr>\n",
       "      <th>0</th>\n",
       "      <td>-72.281370</td>\n",
       "      <td>12.068572</td>\n",
       "      <td>79.223174</td>\n",
       "      <td>127.970706</td>\n",
       "      <td>90.874975</td>\n",
       "      <td>-81.679897</td>\n",
       "      <td>-159.974626</td>\n",
       "      <td>33.643303</td>\n",
       "      <td>13.943719</td>\n",
       "      <td>80.010974</td>\n",
       "      <td>...</td>\n",
       "      <td>24.860251</td>\n",
       "      <td>19.486001</td>\n",
       "      <td>-12.514470</td>\n",
       "      <td>20.880746</td>\n",
       "      <td>-9.526560</td>\n",
       "      <td>12.505053</td>\n",
       "      <td>-18.369100</td>\n",
       "      <td>-19.660701</td>\n",
       "      <td>2.478169</td>\n",
       "      <td>3.755231</td>\n",
       "    </tr>\n",
       "    <tr>\n",
       "      <th>1</th>\n",
       "      <td>5.957803</td>\n",
       "      <td>18.468456</td>\n",
       "      <td>46.679344</td>\n",
       "      <td>132.820318</td>\n",
       "      <td>95.983609</td>\n",
       "      <td>6.202293</td>\n",
       "      <td>3.012544</td>\n",
       "      <td>-62.822269</td>\n",
       "      <td>15.141807</td>\n",
       "      <td>-11.336139</td>\n",
       "      <td>...</td>\n",
       "      <td>1.755210</td>\n",
       "      <td>-16.658808</td>\n",
       "      <td>-3.363791</td>\n",
       "      <td>9.538086</td>\n",
       "      <td>34.503923</td>\n",
       "      <td>-14.297943</td>\n",
       "      <td>-1.981322</td>\n",
       "      <td>-19.117448</td>\n",
       "      <td>-23.928391</td>\n",
       "      <td>12.650820</td>\n",
       "    </tr>\n",
       "    <tr>\n",
       "      <th>2</th>\n",
       "      <td>-70.830209</td>\n",
       "      <td>22.874239</td>\n",
       "      <td>37.359257</td>\n",
       "      <td>0.217698</td>\n",
       "      <td>10.141556</td>\n",
       "      <td>114.902782</td>\n",
       "      <td>137.789691</td>\n",
       "      <td>-17.111703</td>\n",
       "      <td>-37.436965</td>\n",
       "      <td>60.816040</td>\n",
       "      <td>...</td>\n",
       "      <td>6.137655</td>\n",
       "      <td>18.581767</td>\n",
       "      <td>-3.373323</td>\n",
       "      <td>-0.992897</td>\n",
       "      <td>5.487295</td>\n",
       "      <td>-1.116680</td>\n",
       "      <td>17.031603</td>\n",
       "      <td>-11.410202</td>\n",
       "      <td>-10.116167</td>\n",
       "      <td>-14.000310</td>\n",
       "    </tr>\n",
       "    <tr>\n",
       "      <th>3</th>\n",
       "      <td>-55.227179</td>\n",
       "      <td>-147.154301</td>\n",
       "      <td>88.931206</td>\n",
       "      <td>-83.275574</td>\n",
       "      <td>-72.629173</td>\n",
       "      <td>23.696555</td>\n",
       "      <td>-4.458497</td>\n",
       "      <td>36.905969</td>\n",
       "      <td>19.247805</td>\n",
       "      <td>-8.787616</td>\n",
       "      <td>...</td>\n",
       "      <td>-10.146613</td>\n",
       "      <td>4.947590</td>\n",
       "      <td>-13.541931</td>\n",
       "      <td>-16.239599</td>\n",
       "      <td>-1.108255</td>\n",
       "      <td>10.362057</td>\n",
       "      <td>1.642150</td>\n",
       "      <td>1.549255</td>\n",
       "      <td>17.833130</td>\n",
       "      <td>-3.032503</td>\n",
       "    </tr>\n",
       "    <tr>\n",
       "      <th>4</th>\n",
       "      <td>-35.716747</td>\n",
       "      <td>24.966678</td>\n",
       "      <td>-77.588139</td>\n",
       "      <td>-63.951899</td>\n",
       "      <td>-91.639205</td>\n",
       "      <td>-63.838373</td>\n",
       "      <td>-123.055247</td>\n",
       "      <td>159.932954</td>\n",
       "      <td>-136.469128</td>\n",
       "      <td>-0.924887</td>\n",
       "      <td>...</td>\n",
       "      <td>9.207799</td>\n",
       "      <td>4.686454</td>\n",
       "      <td>-10.574170</td>\n",
       "      <td>-1.561117</td>\n",
       "      <td>-2.325341</td>\n",
       "      <td>4.427599</td>\n",
       "      <td>9.241305</td>\n",
       "      <td>9.336252</td>\n",
       "      <td>5.322563</td>\n",
       "      <td>15.657007</td>\n",
       "    </tr>\n",
       "  </tbody>\n",
       "</table>\n",
       "<p>5 rows × 171 columns</p>\n",
       "</div>"
      ],
      "text/plain": [
       "         0           1          2           3          4           5    \\\n",
       "0 -72.281370   12.068572  79.223174  127.970706  90.874975  -81.679897   \n",
       "1   5.957803   18.468456  46.679344  132.820318  95.983609    6.202293   \n",
       "2 -70.830209   22.874239  37.359257    0.217698  10.141556  114.902782   \n",
       "3 -55.227179 -147.154301  88.931206  -83.275574 -72.629173   23.696555   \n",
       "4 -35.716747   24.966678 -77.588139  -63.951899 -91.639205  -63.838373   \n",
       "\n",
       "          6           7           8          9    ...        161        162  \\\n",
       "0 -159.974626   33.643303   13.943719  80.010974  ...  24.860251  19.486001   \n",
       "1    3.012544  -62.822269   15.141807 -11.336139  ...   1.755210 -16.658808   \n",
       "2  137.789691  -17.111703  -37.436965  60.816040  ...   6.137655  18.581767   \n",
       "3   -4.458497   36.905969   19.247805  -8.787616  ... -10.146613   4.947590   \n",
       "4 -123.055247  159.932954 -136.469128  -0.924887  ...   9.207799   4.686454   \n",
       "\n",
       "         163        164        165        166        167        168  \\\n",
       "0 -12.514470  20.880746  -9.526560  12.505053 -18.369100 -19.660701   \n",
       "1  -3.363791   9.538086  34.503923 -14.297943  -1.981322 -19.117448   \n",
       "2  -3.373323  -0.992897   5.487295  -1.116680  17.031603 -11.410202   \n",
       "3 -13.541931 -16.239599  -1.108255  10.362057   1.642150   1.549255   \n",
       "4 -10.574170  -1.561117  -2.325341   4.427599   9.241305   9.336252   \n",
       "\n",
       "         169        170  \n",
       "0   2.478169   3.755231  \n",
       "1 -23.928391  12.650820  \n",
       "2 -10.116167 -14.000310  \n",
       "3  17.833130  -3.032503  \n",
       "4   5.322563  15.657007  \n",
       "\n",
       "[5 rows x 171 columns]"
      ]
     },
     "execution_count": 25,
     "metadata": {},
     "output_type": "execute_result"
    }
   ],
   "source": [
    "df_train_feat = pca.transform(X_train)  # Need to perform this process for validation and test data also.\n",
    "df_train_feat = pd.DataFrame(df_train_feat) # Here, we can not rename the columns as the number of columns has decreased from 250 to 172\n",
    "df_train_feat.head()"
   ]
  },
  {
   "cell_type": "code",
   "execution_count": 26,
   "metadata": {},
   "outputs": [
    {
     "data": {
      "text/plain": [
       "(5760, 171)"
      ]
     },
     "execution_count": 26,
     "metadata": {},
     "output_type": "execute_result"
    }
   ],
   "source": [
    "df_train_feat.shape"
   ]
  },
  {
   "cell_type": "markdown",
   "metadata": {},
   "source": [
    "Since, we know that if the variables are highly correlated, the model will get biased. \n",
    "The R-Squared Value (in term of linear regression) or accuracy ( in terms of classification model) will be high.\n",
    "This leads to overfitting of the models.\n",
    "\n",
    "So, to remove the such discrepancies, we build PCA model for dimensional reduction in order to get rid off of the \n",
    "correlated variables."
   ]
  },
  {
   "cell_type": "markdown",
   "metadata": {},
   "source": [
    "Here, we performed Standard Scaling and PCA for reduction of the dimension, so we miss the header and 5 % of variance\n",
    "is not explained. The removal of correlated variables, however, will also remove the overfitting and the model will be un-biased."
   ]
  },
  {
   "cell_type": "markdown",
   "metadata": {},
   "source": [
    "## Model Building"
   ]
  },
  {
   "cell_type": "markdown",
   "metadata": {},
   "source": [
    "Before, we build the models, lets PCA transform all the data."
   ]
  },
  {
   "cell_type": "code",
   "execution_count": 27,
   "metadata": {},
   "outputs": [],
   "source": [
    "X_train_pca =  pca.transform(X_train)\n",
    "X_train_pca = pd.DataFrame(X_train_pca)\n"
   ]
  },
  {
   "cell_type": "code",
   "execution_count": 28,
   "metadata": {},
   "outputs": [],
   "source": [
    "X_valid_pca = pca.transform(X_valid)"
   ]
  },
  {
   "cell_type": "markdown",
   "metadata": {},
   "source": [
    "### KNN Classifier"
   ]
  },
  {
   "cell_type": "code",
   "execution_count": 29,
   "metadata": {},
   "outputs": [],
   "source": [
    "from sklearn.neighbors import KNeighborsClassifier\n",
    "\n",
    "knn = KNeighborsClassifier(n_neighbors =5)"
   ]
  },
  {
   "cell_type": "code",
   "execution_count": 30,
   "metadata": {},
   "outputs": [
    {
     "name": "stderr",
     "output_type": "stream",
     "text": [
      "C:\\Users\\PrakashAdhikari\\Documents\\temp\\lib\\site-packages\\ipykernel_launcher.py:3: DataConversionWarning: A column-vector y was passed when a 1d array was expected. Please change the shape of y to (n_samples, ), for example using ravel().\n",
      "  This is separate from the ipykernel package so we can avoid doing imports until\n"
     ]
    },
    {
     "data": {
      "text/plain": [
       "KNeighborsClassifier(algorithm='auto', leaf_size=30, metric='minkowski',\n",
       "           metric_params=None, n_jobs=None, n_neighbors=5, p=2,\n",
       "           weights='uniform')"
      ]
     },
     "execution_count": 30,
     "metadata": {},
     "output_type": "execute_result"
    }
   ],
   "source": [
    "#Training the models \n",
    "\n",
    "knn.fit(X_train_pca, y_train)"
   ]
  },
  {
   "cell_type": "code",
   "execution_count": 31,
   "metadata": {},
   "outputs": [],
   "source": [
    "# Predicting the response for the validation data set\n",
    "\n",
    "y_pred = knn.predict(X_valid_pca)"
   ]
  },
  {
   "cell_type": "markdown",
   "metadata": {},
   "source": [
    "Accuracy Calculation"
   ]
  },
  {
   "cell_type": "code",
   "execution_count": 32,
   "metadata": {},
   "outputs": [
    {
     "name": "stdout",
     "output_type": "stream",
     "text": [
      "Accuracy: 0.5138888888888888\n"
     ]
    }
   ],
   "source": [
    "from sklearn import metrics\n",
    "\n",
    "ac_knn = metrics.accuracy_score(y_valid, y_pred)\n",
    "\n",
    "print(\"Accuracy:\", metrics.accuracy_score(y_valid, y_pred))"
   ]
  },
  {
   "cell_type": "markdown",
   "metadata": {},
   "source": [
    "### Naive Baise"
   ]
  },
  {
   "cell_type": "code",
   "execution_count": 33,
   "metadata": {},
   "outputs": [],
   "source": [
    "from sklearn.model_selection import GridSearchCV\n",
    "from sklearn.metrics import accuracy_score\n",
    "from sklearn.metrics import classification_report, confusion_matrix "
   ]
  },
  {
   "cell_type": "code",
   "execution_count": 34,
   "metadata": {},
   "outputs": [],
   "source": [
    "from sklearn.naive_bayes import GaussianNB\n",
    "\n",
    "params = {\"var_smoothing\": [1e-9, 1e-8, 1e-7, 1e-6, 1e-5, 1e-4, 1e-3]}\n",
    "nb = GaussianNB()\n",
    "clf = GridSearchCV(nb, params, cv=10)"
   ]
  },
  {
   "cell_type": "code",
   "execution_count": 35,
   "metadata": {},
   "outputs": [
    {
     "name": "stderr",
     "output_type": "stream",
     "text": [
      "C:\\Users\\PrakashAdhikari\\Documents\\temp\\lib\\site-packages\\sklearn\\utils\\validation.py:761: DataConversionWarning: A column-vector y was passed when a 1d array was expected. Please change the shape of y to (n_samples, ), for example using ravel().\n",
      "  y = column_or_1d(y, warn=True)\n",
      "C:\\Users\\PrakashAdhikari\\Documents\\temp\\lib\\site-packages\\sklearn\\utils\\validation.py:761: DataConversionWarning: A column-vector y was passed when a 1d array was expected. Please change the shape of y to (n_samples, ), for example using ravel().\n",
      "  y = column_or_1d(y, warn=True)\n",
      "C:\\Users\\PrakashAdhikari\\Documents\\temp\\lib\\site-packages\\sklearn\\utils\\validation.py:761: DataConversionWarning: A column-vector y was passed when a 1d array was expected. Please change the shape of y to (n_samples, ), for example using ravel().\n",
      "  y = column_or_1d(y, warn=True)\n",
      "C:\\Users\\PrakashAdhikari\\Documents\\temp\\lib\\site-packages\\sklearn\\utils\\validation.py:761: DataConversionWarning: A column-vector y was passed when a 1d array was expected. Please change the shape of y to (n_samples, ), for example using ravel().\n",
      "  y = column_or_1d(y, warn=True)\n",
      "C:\\Users\\PrakashAdhikari\\Documents\\temp\\lib\\site-packages\\sklearn\\utils\\validation.py:761: DataConversionWarning: A column-vector y was passed when a 1d array was expected. Please change the shape of y to (n_samples, ), for example using ravel().\n",
      "  y = column_or_1d(y, warn=True)\n",
      "C:\\Users\\PrakashAdhikari\\Documents\\temp\\lib\\site-packages\\sklearn\\utils\\validation.py:761: DataConversionWarning: A column-vector y was passed when a 1d array was expected. Please change the shape of y to (n_samples, ), for example using ravel().\n",
      "  y = column_or_1d(y, warn=True)\n",
      "C:\\Users\\PrakashAdhikari\\Documents\\temp\\lib\\site-packages\\sklearn\\utils\\validation.py:761: DataConversionWarning: A column-vector y was passed when a 1d array was expected. Please change the shape of y to (n_samples, ), for example using ravel().\n",
      "  y = column_or_1d(y, warn=True)\n",
      "C:\\Users\\PrakashAdhikari\\Documents\\temp\\lib\\site-packages\\sklearn\\utils\\validation.py:761: DataConversionWarning: A column-vector y was passed when a 1d array was expected. Please change the shape of y to (n_samples, ), for example using ravel().\n",
      "  y = column_or_1d(y, warn=True)\n",
      "C:\\Users\\PrakashAdhikari\\Documents\\temp\\lib\\site-packages\\sklearn\\utils\\validation.py:761: DataConversionWarning: A column-vector y was passed when a 1d array was expected. Please change the shape of y to (n_samples, ), for example using ravel().\n",
      "  y = column_or_1d(y, warn=True)\n",
      "C:\\Users\\PrakashAdhikari\\Documents\\temp\\lib\\site-packages\\sklearn\\utils\\validation.py:761: DataConversionWarning: A column-vector y was passed when a 1d array was expected. Please change the shape of y to (n_samples, ), for example using ravel().\n",
      "  y = column_or_1d(y, warn=True)\n",
      "C:\\Users\\PrakashAdhikari\\Documents\\temp\\lib\\site-packages\\sklearn\\utils\\validation.py:761: DataConversionWarning: A column-vector y was passed when a 1d array was expected. Please change the shape of y to (n_samples, ), for example using ravel().\n",
      "  y = column_or_1d(y, warn=True)\n",
      "C:\\Users\\PrakashAdhikari\\Documents\\temp\\lib\\site-packages\\sklearn\\utils\\validation.py:761: DataConversionWarning: A column-vector y was passed when a 1d array was expected. Please change the shape of y to (n_samples, ), for example using ravel().\n",
      "  y = column_or_1d(y, warn=True)\n",
      "C:\\Users\\PrakashAdhikari\\Documents\\temp\\lib\\site-packages\\sklearn\\utils\\validation.py:761: DataConversionWarning: A column-vector y was passed when a 1d array was expected. Please change the shape of y to (n_samples, ), for example using ravel().\n",
      "  y = column_or_1d(y, warn=True)\n",
      "C:\\Users\\PrakashAdhikari\\Documents\\temp\\lib\\site-packages\\sklearn\\utils\\validation.py:761: DataConversionWarning: A column-vector y was passed when a 1d array was expected. Please change the shape of y to (n_samples, ), for example using ravel().\n",
      "  y = column_or_1d(y, warn=True)\n",
      "C:\\Users\\PrakashAdhikari\\Documents\\temp\\lib\\site-packages\\sklearn\\utils\\validation.py:761: DataConversionWarning: A column-vector y was passed when a 1d array was expected. Please change the shape of y to (n_samples, ), for example using ravel().\n",
      "  y = column_or_1d(y, warn=True)\n",
      "C:\\Users\\PrakashAdhikari\\Documents\\temp\\lib\\site-packages\\sklearn\\utils\\validation.py:761: DataConversionWarning: A column-vector y was passed when a 1d array was expected. Please change the shape of y to (n_samples, ), for example using ravel().\n",
      "  y = column_or_1d(y, warn=True)\n",
      "C:\\Users\\PrakashAdhikari\\Documents\\temp\\lib\\site-packages\\sklearn\\utils\\validation.py:761: DataConversionWarning: A column-vector y was passed when a 1d array was expected. Please change the shape of y to (n_samples, ), for example using ravel().\n",
      "  y = column_or_1d(y, warn=True)\n",
      "C:\\Users\\PrakashAdhikari\\Documents\\temp\\lib\\site-packages\\sklearn\\utils\\validation.py:761: DataConversionWarning: A column-vector y was passed when a 1d array was expected. Please change the shape of y to (n_samples, ), for example using ravel().\n",
      "  y = column_or_1d(y, warn=True)\n",
      "C:\\Users\\PrakashAdhikari\\Documents\\temp\\lib\\site-packages\\sklearn\\utils\\validation.py:761: DataConversionWarning: A column-vector y was passed when a 1d array was expected. Please change the shape of y to (n_samples, ), for example using ravel().\n",
      "  y = column_or_1d(y, warn=True)\n",
      "C:\\Users\\PrakashAdhikari\\Documents\\temp\\lib\\site-packages\\sklearn\\utils\\validation.py:761: DataConversionWarning: A column-vector y was passed when a 1d array was expected. Please change the shape of y to (n_samples, ), for example using ravel().\n",
      "  y = column_or_1d(y, warn=True)\n",
      "C:\\Users\\PrakashAdhikari\\Documents\\temp\\lib\\site-packages\\sklearn\\utils\\validation.py:761: DataConversionWarning: A column-vector y was passed when a 1d array was expected. Please change the shape of y to (n_samples, ), for example using ravel().\n",
      "  y = column_or_1d(y, warn=True)\n",
      "C:\\Users\\PrakashAdhikari\\Documents\\temp\\lib\\site-packages\\sklearn\\utils\\validation.py:761: DataConversionWarning: A column-vector y was passed when a 1d array was expected. Please change the shape of y to (n_samples, ), for example using ravel().\n",
      "  y = column_or_1d(y, warn=True)\n",
      "C:\\Users\\PrakashAdhikari\\Documents\\temp\\lib\\site-packages\\sklearn\\utils\\validation.py:761: DataConversionWarning: A column-vector y was passed when a 1d array was expected. Please change the shape of y to (n_samples, ), for example using ravel().\n",
      "  y = column_or_1d(y, warn=True)\n",
      "C:\\Users\\PrakashAdhikari\\Documents\\temp\\lib\\site-packages\\sklearn\\utils\\validation.py:761: DataConversionWarning: A column-vector y was passed when a 1d array was expected. Please change the shape of y to (n_samples, ), for example using ravel().\n",
      "  y = column_or_1d(y, warn=True)\n",
      "C:\\Users\\PrakashAdhikari\\Documents\\temp\\lib\\site-packages\\sklearn\\utils\\validation.py:761: DataConversionWarning: A column-vector y was passed when a 1d array was expected. Please change the shape of y to (n_samples, ), for example using ravel().\n",
      "  y = column_or_1d(y, warn=True)\n",
      "C:\\Users\\PrakashAdhikari\\Documents\\temp\\lib\\site-packages\\sklearn\\utils\\validation.py:761: DataConversionWarning: A column-vector y was passed when a 1d array was expected. Please change the shape of y to (n_samples, ), for example using ravel().\n",
      "  y = column_or_1d(y, warn=True)\n",
      "C:\\Users\\PrakashAdhikari\\Documents\\temp\\lib\\site-packages\\sklearn\\utils\\validation.py:761: DataConversionWarning: A column-vector y was passed when a 1d array was expected. Please change the shape of y to (n_samples, ), for example using ravel().\n",
      "  y = column_or_1d(y, warn=True)\n",
      "C:\\Users\\PrakashAdhikari\\Documents\\temp\\lib\\site-packages\\sklearn\\utils\\validation.py:761: DataConversionWarning: A column-vector y was passed when a 1d array was expected. Please change the shape of y to (n_samples, ), for example using ravel().\n",
      "  y = column_or_1d(y, warn=True)\n",
      "C:\\Users\\PrakashAdhikari\\Documents\\temp\\lib\\site-packages\\sklearn\\utils\\validation.py:761: DataConversionWarning: A column-vector y was passed when a 1d array was expected. Please change the shape of y to (n_samples, ), for example using ravel().\n",
      "  y = column_or_1d(y, warn=True)\n",
      "C:\\Users\\PrakashAdhikari\\Documents\\temp\\lib\\site-packages\\sklearn\\utils\\validation.py:761: DataConversionWarning: A column-vector y was passed when a 1d array was expected. Please change the shape of y to (n_samples, ), for example using ravel().\n",
      "  y = column_or_1d(y, warn=True)\n",
      "C:\\Users\\PrakashAdhikari\\Documents\\temp\\lib\\site-packages\\sklearn\\utils\\validation.py:761: DataConversionWarning: A column-vector y was passed when a 1d array was expected. Please change the shape of y to (n_samples, ), for example using ravel().\n",
      "  y = column_or_1d(y, warn=True)\n"
     ]
    },
    {
     "name": "stderr",
     "output_type": "stream",
     "text": [
      "C:\\Users\\PrakashAdhikari\\Documents\\temp\\lib\\site-packages\\sklearn\\utils\\validation.py:761: DataConversionWarning: A column-vector y was passed when a 1d array was expected. Please change the shape of y to (n_samples, ), for example using ravel().\n",
      "  y = column_or_1d(y, warn=True)\n",
      "C:\\Users\\PrakashAdhikari\\Documents\\temp\\lib\\site-packages\\sklearn\\utils\\validation.py:761: DataConversionWarning: A column-vector y was passed when a 1d array was expected. Please change the shape of y to (n_samples, ), for example using ravel().\n",
      "  y = column_or_1d(y, warn=True)\n",
      "C:\\Users\\PrakashAdhikari\\Documents\\temp\\lib\\site-packages\\sklearn\\utils\\validation.py:761: DataConversionWarning: A column-vector y was passed when a 1d array was expected. Please change the shape of y to (n_samples, ), for example using ravel().\n",
      "  y = column_or_1d(y, warn=True)\n",
      "C:\\Users\\PrakashAdhikari\\Documents\\temp\\lib\\site-packages\\sklearn\\utils\\validation.py:761: DataConversionWarning: A column-vector y was passed when a 1d array was expected. Please change the shape of y to (n_samples, ), for example using ravel().\n",
      "  y = column_or_1d(y, warn=True)\n",
      "C:\\Users\\PrakashAdhikari\\Documents\\temp\\lib\\site-packages\\sklearn\\utils\\validation.py:761: DataConversionWarning: A column-vector y was passed when a 1d array was expected. Please change the shape of y to (n_samples, ), for example using ravel().\n",
      "  y = column_or_1d(y, warn=True)\n",
      "C:\\Users\\PrakashAdhikari\\Documents\\temp\\lib\\site-packages\\sklearn\\utils\\validation.py:761: DataConversionWarning: A column-vector y was passed when a 1d array was expected. Please change the shape of y to (n_samples, ), for example using ravel().\n",
      "  y = column_or_1d(y, warn=True)\n",
      "C:\\Users\\PrakashAdhikari\\Documents\\temp\\lib\\site-packages\\sklearn\\utils\\validation.py:761: DataConversionWarning: A column-vector y was passed when a 1d array was expected. Please change the shape of y to (n_samples, ), for example using ravel().\n",
      "  y = column_or_1d(y, warn=True)\n",
      "C:\\Users\\PrakashAdhikari\\Documents\\temp\\lib\\site-packages\\sklearn\\utils\\validation.py:761: DataConversionWarning: A column-vector y was passed when a 1d array was expected. Please change the shape of y to (n_samples, ), for example using ravel().\n",
      "  y = column_or_1d(y, warn=True)\n",
      "C:\\Users\\PrakashAdhikari\\Documents\\temp\\lib\\site-packages\\sklearn\\utils\\validation.py:761: DataConversionWarning: A column-vector y was passed when a 1d array was expected. Please change the shape of y to (n_samples, ), for example using ravel().\n",
      "  y = column_or_1d(y, warn=True)\n",
      "C:\\Users\\PrakashAdhikari\\Documents\\temp\\lib\\site-packages\\sklearn\\utils\\validation.py:761: DataConversionWarning: A column-vector y was passed when a 1d array was expected. Please change the shape of y to (n_samples, ), for example using ravel().\n",
      "  y = column_or_1d(y, warn=True)\n",
      "C:\\Users\\PrakashAdhikari\\Documents\\temp\\lib\\site-packages\\sklearn\\utils\\validation.py:761: DataConversionWarning: A column-vector y was passed when a 1d array was expected. Please change the shape of y to (n_samples, ), for example using ravel().\n",
      "  y = column_or_1d(y, warn=True)\n",
      "C:\\Users\\PrakashAdhikari\\Documents\\temp\\lib\\site-packages\\sklearn\\utils\\validation.py:761: DataConversionWarning: A column-vector y was passed when a 1d array was expected. Please change the shape of y to (n_samples, ), for example using ravel().\n",
      "  y = column_or_1d(y, warn=True)\n",
      "C:\\Users\\PrakashAdhikari\\Documents\\temp\\lib\\site-packages\\sklearn\\utils\\validation.py:761: DataConversionWarning: A column-vector y was passed when a 1d array was expected. Please change the shape of y to (n_samples, ), for example using ravel().\n",
      "  y = column_or_1d(y, warn=True)\n",
      "C:\\Users\\PrakashAdhikari\\Documents\\temp\\lib\\site-packages\\sklearn\\utils\\validation.py:761: DataConversionWarning: A column-vector y was passed when a 1d array was expected. Please change the shape of y to (n_samples, ), for example using ravel().\n",
      "  y = column_or_1d(y, warn=True)\n",
      "C:\\Users\\PrakashAdhikari\\Documents\\temp\\lib\\site-packages\\sklearn\\utils\\validation.py:761: DataConversionWarning: A column-vector y was passed when a 1d array was expected. Please change the shape of y to (n_samples, ), for example using ravel().\n",
      "  y = column_or_1d(y, warn=True)\n",
      "C:\\Users\\PrakashAdhikari\\Documents\\temp\\lib\\site-packages\\sklearn\\utils\\validation.py:761: DataConversionWarning: A column-vector y was passed when a 1d array was expected. Please change the shape of y to (n_samples, ), for example using ravel().\n",
      "  y = column_or_1d(y, warn=True)\n",
      "C:\\Users\\PrakashAdhikari\\Documents\\temp\\lib\\site-packages\\sklearn\\utils\\validation.py:761: DataConversionWarning: A column-vector y was passed when a 1d array was expected. Please change the shape of y to (n_samples, ), for example using ravel().\n",
      "  y = column_or_1d(y, warn=True)\n",
      "C:\\Users\\PrakashAdhikari\\Documents\\temp\\lib\\site-packages\\sklearn\\utils\\validation.py:761: DataConversionWarning: A column-vector y was passed when a 1d array was expected. Please change the shape of y to (n_samples, ), for example using ravel().\n",
      "  y = column_or_1d(y, warn=True)\n",
      "C:\\Users\\PrakashAdhikari\\Documents\\temp\\lib\\site-packages\\sklearn\\utils\\validation.py:761: DataConversionWarning: A column-vector y was passed when a 1d array was expected. Please change the shape of y to (n_samples, ), for example using ravel().\n",
      "  y = column_or_1d(y, warn=True)\n",
      "C:\\Users\\PrakashAdhikari\\Documents\\temp\\lib\\site-packages\\sklearn\\utils\\validation.py:761: DataConversionWarning: A column-vector y was passed when a 1d array was expected. Please change the shape of y to (n_samples, ), for example using ravel().\n",
      "  y = column_or_1d(y, warn=True)\n",
      "C:\\Users\\PrakashAdhikari\\Documents\\temp\\lib\\site-packages\\sklearn\\utils\\validation.py:761: DataConversionWarning: A column-vector y was passed when a 1d array was expected. Please change the shape of y to (n_samples, ), for example using ravel().\n",
      "  y = column_or_1d(y, warn=True)\n",
      "C:\\Users\\PrakashAdhikari\\Documents\\temp\\lib\\site-packages\\sklearn\\utils\\validation.py:761: DataConversionWarning: A column-vector y was passed when a 1d array was expected. Please change the shape of y to (n_samples, ), for example using ravel().\n",
      "  y = column_or_1d(y, warn=True)\n",
      "C:\\Users\\PrakashAdhikari\\Documents\\temp\\lib\\site-packages\\sklearn\\utils\\validation.py:761: DataConversionWarning: A column-vector y was passed when a 1d array was expected. Please change the shape of y to (n_samples, ), for example using ravel().\n",
      "  y = column_or_1d(y, warn=True)\n",
      "C:\\Users\\PrakashAdhikari\\Documents\\temp\\lib\\site-packages\\sklearn\\utils\\validation.py:761: DataConversionWarning: A column-vector y was passed when a 1d array was expected. Please change the shape of y to (n_samples, ), for example using ravel().\n",
      "  y = column_or_1d(y, warn=True)\n",
      "C:\\Users\\PrakashAdhikari\\Documents\\temp\\lib\\site-packages\\sklearn\\utils\\validation.py:761: DataConversionWarning: A column-vector y was passed when a 1d array was expected. Please change the shape of y to (n_samples, ), for example using ravel().\n",
      "  y = column_or_1d(y, warn=True)\n",
      "C:\\Users\\PrakashAdhikari\\Documents\\temp\\lib\\site-packages\\sklearn\\utils\\validation.py:761: DataConversionWarning: A column-vector y was passed when a 1d array was expected. Please change the shape of y to (n_samples, ), for example using ravel().\n",
      "  y = column_or_1d(y, warn=True)\n",
      "C:\\Users\\PrakashAdhikari\\Documents\\temp\\lib\\site-packages\\sklearn\\utils\\validation.py:761: DataConversionWarning: A column-vector y was passed when a 1d array was expected. Please change the shape of y to (n_samples, ), for example using ravel().\n",
      "  y = column_or_1d(y, warn=True)\n",
      "C:\\Users\\PrakashAdhikari\\Documents\\temp\\lib\\site-packages\\sklearn\\utils\\validation.py:761: DataConversionWarning: A column-vector y was passed when a 1d array was expected. Please change the shape of y to (n_samples, ), for example using ravel().\n",
      "  y = column_or_1d(y, warn=True)\n",
      "C:\\Users\\PrakashAdhikari\\Documents\\temp\\lib\\site-packages\\sklearn\\utils\\validation.py:761: DataConversionWarning: A column-vector y was passed when a 1d array was expected. Please change the shape of y to (n_samples, ), for example using ravel().\n",
      "  y = column_or_1d(y, warn=True)\n",
      "C:\\Users\\PrakashAdhikari\\Documents\\temp\\lib\\site-packages\\sklearn\\utils\\validation.py:761: DataConversionWarning: A column-vector y was passed when a 1d array was expected. Please change the shape of y to (n_samples, ), for example using ravel().\n",
      "  y = column_or_1d(y, warn=True)\n"
     ]
    },
    {
     "name": "stderr",
     "output_type": "stream",
     "text": [
      "C:\\Users\\PrakashAdhikari\\Documents\\temp\\lib\\site-packages\\sklearn\\utils\\validation.py:761: DataConversionWarning: A column-vector y was passed when a 1d array was expected. Please change the shape of y to (n_samples, ), for example using ravel().\n",
      "  y = column_or_1d(y, warn=True)\n",
      "C:\\Users\\PrakashAdhikari\\Documents\\temp\\lib\\site-packages\\sklearn\\utils\\validation.py:761: DataConversionWarning: A column-vector y was passed when a 1d array was expected. Please change the shape of y to (n_samples, ), for example using ravel().\n",
      "  y = column_or_1d(y, warn=True)\n",
      "C:\\Users\\PrakashAdhikari\\Documents\\temp\\lib\\site-packages\\sklearn\\utils\\validation.py:761: DataConversionWarning: A column-vector y was passed when a 1d array was expected. Please change the shape of y to (n_samples, ), for example using ravel().\n",
      "  y = column_or_1d(y, warn=True)\n",
      "C:\\Users\\PrakashAdhikari\\Documents\\temp\\lib\\site-packages\\sklearn\\utils\\validation.py:761: DataConversionWarning: A column-vector y was passed when a 1d array was expected. Please change the shape of y to (n_samples, ), for example using ravel().\n",
      "  y = column_or_1d(y, warn=True)\n",
      "C:\\Users\\PrakashAdhikari\\Documents\\temp\\lib\\site-packages\\sklearn\\utils\\validation.py:761: DataConversionWarning: A column-vector y was passed when a 1d array was expected. Please change the shape of y to (n_samples, ), for example using ravel().\n",
      "  y = column_or_1d(y, warn=True)\n",
      "C:\\Users\\PrakashAdhikari\\Documents\\temp\\lib\\site-packages\\sklearn\\utils\\validation.py:761: DataConversionWarning: A column-vector y was passed when a 1d array was expected. Please change the shape of y to (n_samples, ), for example using ravel().\n",
      "  y = column_or_1d(y, warn=True)\n",
      "C:\\Users\\PrakashAdhikari\\Documents\\temp\\lib\\site-packages\\sklearn\\utils\\validation.py:761: DataConversionWarning: A column-vector y was passed when a 1d array was expected. Please change the shape of y to (n_samples, ), for example using ravel().\n",
      "  y = column_or_1d(y, warn=True)\n",
      "C:\\Users\\PrakashAdhikari\\Documents\\temp\\lib\\site-packages\\sklearn\\utils\\validation.py:761: DataConversionWarning: A column-vector y was passed when a 1d array was expected. Please change the shape of y to (n_samples, ), for example using ravel().\n",
      "  y = column_or_1d(y, warn=True)\n",
      "C:\\Users\\PrakashAdhikari\\Documents\\temp\\lib\\site-packages\\sklearn\\utils\\validation.py:761: DataConversionWarning: A column-vector y was passed when a 1d array was expected. Please change the shape of y to (n_samples, ), for example using ravel().\n",
      "  y = column_or_1d(y, warn=True)\n",
      "C:\\Users\\PrakashAdhikari\\Documents\\temp\\lib\\site-packages\\sklearn\\utils\\validation.py:761: DataConversionWarning: A column-vector y was passed when a 1d array was expected. Please change the shape of y to (n_samples, ), for example using ravel().\n",
      "  y = column_or_1d(y, warn=True)\n"
     ]
    },
    {
     "data": {
      "text/plain": [
       "GridSearchCV(cv=10, error_score='raise-deprecating',\n",
       "       estimator=GaussianNB(priors=None, var_smoothing=1e-09),\n",
       "       fit_params=None, iid='warn', n_jobs=None,\n",
       "       param_grid={'var_smoothing': [1e-09, 1e-08, 1e-07, 1e-06, 1e-05, 0.0001, 0.001]},\n",
       "       pre_dispatch='2*n_jobs', refit=True, return_train_score='warn',\n",
       "       scoring=None, verbose=0)"
      ]
     },
     "execution_count": 35,
     "metadata": {},
     "output_type": "execute_result"
    }
   ],
   "source": [
    "clf.fit(X_train_pca, y_train)"
   ]
  },
  {
   "cell_type": "code",
   "execution_count": 36,
   "metadata": {},
   "outputs": [],
   "source": [
    "y_pred = clf.predict(X_valid_pca)"
   ]
  },
  {
   "cell_type": "code",
   "execution_count": 37,
   "metadata": {},
   "outputs": [
    {
     "name": "stdout",
     "output_type": "stream",
     "text": [
      "[[137  31  46  31  25]\n",
      " [ 25 133  33  35  29]\n",
      " [ 41  34 181  33  33]\n",
      " [ 34  29  28 169  28]\n",
      " [ 41  21  45  38 160]]\n",
      "              precision    recall  f1-score   support\n",
      "\n",
      "           0       0.49      0.51      0.50       270\n",
      "           1       0.54      0.52      0.53       255\n",
      "           2       0.54      0.56      0.55       322\n",
      "           3       0.55      0.59      0.57       288\n",
      "           4       0.58      0.52      0.55       305\n",
      "\n",
      "   micro avg       0.54      0.54      0.54      1440\n",
      "   macro avg       0.54      0.54      0.54      1440\n",
      "weighted avg       0.54      0.54      0.54      1440\n",
      "\n"
     ]
    }
   ],
   "source": [
    "print(confusion_matrix(y_valid,y_pred))  \n",
    "print(classification_report(y_valid,y_pred))"
   ]
  },
  {
   "cell_type": "code",
   "execution_count": 38,
   "metadata": {},
   "outputs": [
    {
     "name": "stdout",
     "output_type": "stream",
     "text": [
      "The accuracy of the Naive Baise on the validation data set  is: 0.5416666666666666\n"
     ]
    }
   ],
   "source": [
    "nb_ac = accuracy_score(y_valid, y_pred)\n",
    "print (\"The accuracy of the Naive Baise on the validation data set  is:\", nb_ac)"
   ]
  },
  {
   "cell_type": "markdown",
   "metadata": {},
   "source": [
    "### Support Vector Machine"
   ]
  },
  {
   "cell_type": "code",
   "execution_count": 39,
   "metadata": {},
   "outputs": [],
   "source": [
    "from sklearn.svm import SVC\n",
    "\n",
    "svm = SVC()\n",
    "params = {\"C\":[1e-4, 1e-3, 1e-2, 1e-1, 1., 10], 'kernel':['rbf'], 'gamma':['auto','scale', 1e-3, 1e-2, 1e-1, 1., 10.]}\n",
    "clf = GridSearchCV(svm, params, cv=2)"
   ]
  },
  {
   "cell_type": "code",
   "execution_count": 40,
   "metadata": {},
   "outputs": [
    {
     "name": "stderr",
     "output_type": "stream",
     "text": [
      "C:\\Users\\PrakashAdhikari\\Documents\\temp\\lib\\site-packages\\sklearn\\utils\\validation.py:761: DataConversionWarning: A column-vector y was passed when a 1d array was expected. Please change the shape of y to (n_samples, ), for example using ravel().\n",
      "  y = column_or_1d(y, warn=True)\n",
      "C:\\Users\\PrakashAdhikari\\Documents\\temp\\lib\\site-packages\\sklearn\\utils\\validation.py:761: DataConversionWarning: A column-vector y was passed when a 1d array was expected. Please change the shape of y to (n_samples, ), for example using ravel().\n",
      "  y = column_or_1d(y, warn=True)\n",
      "C:\\Users\\PrakashAdhikari\\Documents\\temp\\lib\\site-packages\\sklearn\\utils\\validation.py:761: DataConversionWarning: A column-vector y was passed when a 1d array was expected. Please change the shape of y to (n_samples, ), for example using ravel().\n",
      "  y = column_or_1d(y, warn=True)\n",
      "C:\\Users\\PrakashAdhikari\\Documents\\temp\\lib\\site-packages\\sklearn\\utils\\validation.py:761: DataConversionWarning: A column-vector y was passed when a 1d array was expected. Please change the shape of y to (n_samples, ), for example using ravel().\n",
      "  y = column_or_1d(y, warn=True)\n",
      "C:\\Users\\PrakashAdhikari\\Documents\\temp\\lib\\site-packages\\sklearn\\utils\\validation.py:761: DataConversionWarning: A column-vector y was passed when a 1d array was expected. Please change the shape of y to (n_samples, ), for example using ravel().\n",
      "  y = column_or_1d(y, warn=True)\n",
      "C:\\Users\\PrakashAdhikari\\Documents\\temp\\lib\\site-packages\\sklearn\\utils\\validation.py:761: DataConversionWarning: A column-vector y was passed when a 1d array was expected. Please change the shape of y to (n_samples, ), for example using ravel().\n",
      "  y = column_or_1d(y, warn=True)\n",
      "C:\\Users\\PrakashAdhikari\\Documents\\temp\\lib\\site-packages\\sklearn\\utils\\validation.py:761: DataConversionWarning: A column-vector y was passed when a 1d array was expected. Please change the shape of y to (n_samples, ), for example using ravel().\n",
      "  y = column_or_1d(y, warn=True)\n",
      "C:\\Users\\PrakashAdhikari\\Documents\\temp\\lib\\site-packages\\sklearn\\utils\\validation.py:761: DataConversionWarning: A column-vector y was passed when a 1d array was expected. Please change the shape of y to (n_samples, ), for example using ravel().\n",
      "  y = column_or_1d(y, warn=True)\n",
      "C:\\Users\\PrakashAdhikari\\Documents\\temp\\lib\\site-packages\\sklearn\\utils\\validation.py:761: DataConversionWarning: A column-vector y was passed when a 1d array was expected. Please change the shape of y to (n_samples, ), for example using ravel().\n",
      "  y = column_or_1d(y, warn=True)\n",
      "C:\\Users\\PrakashAdhikari\\Documents\\temp\\lib\\site-packages\\sklearn\\utils\\validation.py:761: DataConversionWarning: A column-vector y was passed when a 1d array was expected. Please change the shape of y to (n_samples, ), for example using ravel().\n",
      "  y = column_or_1d(y, warn=True)\n",
      "C:\\Users\\PrakashAdhikari\\Documents\\temp\\lib\\site-packages\\sklearn\\utils\\validation.py:761: DataConversionWarning: A column-vector y was passed when a 1d array was expected. Please change the shape of y to (n_samples, ), for example using ravel().\n",
      "  y = column_or_1d(y, warn=True)\n",
      "C:\\Users\\PrakashAdhikari\\Documents\\temp\\lib\\site-packages\\sklearn\\utils\\validation.py:761: DataConversionWarning: A column-vector y was passed when a 1d array was expected. Please change the shape of y to (n_samples, ), for example using ravel().\n",
      "  y = column_or_1d(y, warn=True)\n",
      "C:\\Users\\PrakashAdhikari\\Documents\\temp\\lib\\site-packages\\sklearn\\utils\\validation.py:761: DataConversionWarning: A column-vector y was passed when a 1d array was expected. Please change the shape of y to (n_samples, ), for example using ravel().\n",
      "  y = column_or_1d(y, warn=True)\n",
      "C:\\Users\\PrakashAdhikari\\Documents\\temp\\lib\\site-packages\\sklearn\\utils\\validation.py:761: DataConversionWarning: A column-vector y was passed when a 1d array was expected. Please change the shape of y to (n_samples, ), for example using ravel().\n",
      "  y = column_or_1d(y, warn=True)\n",
      "C:\\Users\\PrakashAdhikari\\Documents\\temp\\lib\\site-packages\\sklearn\\utils\\validation.py:761: DataConversionWarning: A column-vector y was passed when a 1d array was expected. Please change the shape of y to (n_samples, ), for example using ravel().\n",
      "  y = column_or_1d(y, warn=True)\n",
      "C:\\Users\\PrakashAdhikari\\Documents\\temp\\lib\\site-packages\\sklearn\\utils\\validation.py:761: DataConversionWarning: A column-vector y was passed when a 1d array was expected. Please change the shape of y to (n_samples, ), for example using ravel().\n",
      "  y = column_or_1d(y, warn=True)\n",
      "C:\\Users\\PrakashAdhikari\\Documents\\temp\\lib\\site-packages\\sklearn\\utils\\validation.py:761: DataConversionWarning: A column-vector y was passed when a 1d array was expected. Please change the shape of y to (n_samples, ), for example using ravel().\n",
      "  y = column_or_1d(y, warn=True)\n",
      "C:\\Users\\PrakashAdhikari\\Documents\\temp\\lib\\site-packages\\sklearn\\utils\\validation.py:761: DataConversionWarning: A column-vector y was passed when a 1d array was expected. Please change the shape of y to (n_samples, ), for example using ravel().\n",
      "  y = column_or_1d(y, warn=True)\n",
      "C:\\Users\\PrakashAdhikari\\Documents\\temp\\lib\\site-packages\\sklearn\\utils\\validation.py:761: DataConversionWarning: A column-vector y was passed when a 1d array was expected. Please change the shape of y to (n_samples, ), for example using ravel().\n",
      "  y = column_or_1d(y, warn=True)\n",
      "C:\\Users\\PrakashAdhikari\\Documents\\temp\\lib\\site-packages\\sklearn\\utils\\validation.py:761: DataConversionWarning: A column-vector y was passed when a 1d array was expected. Please change the shape of y to (n_samples, ), for example using ravel().\n",
      "  y = column_or_1d(y, warn=True)\n",
      "C:\\Users\\PrakashAdhikari\\Documents\\temp\\lib\\site-packages\\sklearn\\utils\\validation.py:761: DataConversionWarning: A column-vector y was passed when a 1d array was expected. Please change the shape of y to (n_samples, ), for example using ravel().\n",
      "  y = column_or_1d(y, warn=True)\n",
      "C:\\Users\\PrakashAdhikari\\Documents\\temp\\lib\\site-packages\\sklearn\\utils\\validation.py:761: DataConversionWarning: A column-vector y was passed when a 1d array was expected. Please change the shape of y to (n_samples, ), for example using ravel().\n",
      "  y = column_or_1d(y, warn=True)\n",
      "C:\\Users\\PrakashAdhikari\\Documents\\temp\\lib\\site-packages\\sklearn\\utils\\validation.py:761: DataConversionWarning: A column-vector y was passed when a 1d array was expected. Please change the shape of y to (n_samples, ), for example using ravel().\n",
      "  y = column_or_1d(y, warn=True)\n",
      "C:\\Users\\PrakashAdhikari\\Documents\\temp\\lib\\site-packages\\sklearn\\utils\\validation.py:761: DataConversionWarning: A column-vector y was passed when a 1d array was expected. Please change the shape of y to (n_samples, ), for example using ravel().\n",
      "  y = column_or_1d(y, warn=True)\n",
      "C:\\Users\\PrakashAdhikari\\Documents\\temp\\lib\\site-packages\\sklearn\\utils\\validation.py:761: DataConversionWarning: A column-vector y was passed when a 1d array was expected. Please change the shape of y to (n_samples, ), for example using ravel().\n",
      "  y = column_or_1d(y, warn=True)\n",
      "C:\\Users\\PrakashAdhikari\\Documents\\temp\\lib\\site-packages\\sklearn\\utils\\validation.py:761: DataConversionWarning: A column-vector y was passed when a 1d array was expected. Please change the shape of y to (n_samples, ), for example using ravel().\n",
      "  y = column_or_1d(y, warn=True)\n",
      "C:\\Users\\PrakashAdhikari\\Documents\\temp\\lib\\site-packages\\sklearn\\utils\\validation.py:761: DataConversionWarning: A column-vector y was passed when a 1d array was expected. Please change the shape of y to (n_samples, ), for example using ravel().\n",
      "  y = column_or_1d(y, warn=True)\n",
      "C:\\Users\\PrakashAdhikari\\Documents\\temp\\lib\\site-packages\\sklearn\\utils\\validation.py:761: DataConversionWarning: A column-vector y was passed when a 1d array was expected. Please change the shape of y to (n_samples, ), for example using ravel().\n",
      "  y = column_or_1d(y, warn=True)\n",
      "C:\\Users\\PrakashAdhikari\\Documents\\temp\\lib\\site-packages\\sklearn\\utils\\validation.py:761: DataConversionWarning: A column-vector y was passed when a 1d array was expected. Please change the shape of y to (n_samples, ), for example using ravel().\n",
      "  y = column_or_1d(y, warn=True)\n",
      "C:\\Users\\PrakashAdhikari\\Documents\\temp\\lib\\site-packages\\sklearn\\utils\\validation.py:761: DataConversionWarning: A column-vector y was passed when a 1d array was expected. Please change the shape of y to (n_samples, ), for example using ravel().\n",
      "  y = column_or_1d(y, warn=True)\n"
     ]
    },
    {
     "name": "stderr",
     "output_type": "stream",
     "text": [
      "C:\\Users\\PrakashAdhikari\\Documents\\temp\\lib\\site-packages\\sklearn\\utils\\validation.py:761: DataConversionWarning: A column-vector y was passed when a 1d array was expected. Please change the shape of y to (n_samples, ), for example using ravel().\n",
      "  y = column_or_1d(y, warn=True)\n",
      "C:\\Users\\PrakashAdhikari\\Documents\\temp\\lib\\site-packages\\sklearn\\utils\\validation.py:761: DataConversionWarning: A column-vector y was passed when a 1d array was expected. Please change the shape of y to (n_samples, ), for example using ravel().\n",
      "  y = column_or_1d(y, warn=True)\n",
      "C:\\Users\\PrakashAdhikari\\Documents\\temp\\lib\\site-packages\\sklearn\\utils\\validation.py:761: DataConversionWarning: A column-vector y was passed when a 1d array was expected. Please change the shape of y to (n_samples, ), for example using ravel().\n",
      "  y = column_or_1d(y, warn=True)\n",
      "C:\\Users\\PrakashAdhikari\\Documents\\temp\\lib\\site-packages\\sklearn\\utils\\validation.py:761: DataConversionWarning: A column-vector y was passed when a 1d array was expected. Please change the shape of y to (n_samples, ), for example using ravel().\n",
      "  y = column_or_1d(y, warn=True)\n",
      "C:\\Users\\PrakashAdhikari\\Documents\\temp\\lib\\site-packages\\sklearn\\utils\\validation.py:761: DataConversionWarning: A column-vector y was passed when a 1d array was expected. Please change the shape of y to (n_samples, ), for example using ravel().\n",
      "  y = column_or_1d(y, warn=True)\n",
      "C:\\Users\\PrakashAdhikari\\Documents\\temp\\lib\\site-packages\\sklearn\\utils\\validation.py:761: DataConversionWarning: A column-vector y was passed when a 1d array was expected. Please change the shape of y to (n_samples, ), for example using ravel().\n",
      "  y = column_or_1d(y, warn=True)\n",
      "C:\\Users\\PrakashAdhikari\\Documents\\temp\\lib\\site-packages\\sklearn\\utils\\validation.py:761: DataConversionWarning: A column-vector y was passed when a 1d array was expected. Please change the shape of y to (n_samples, ), for example using ravel().\n",
      "  y = column_or_1d(y, warn=True)\n",
      "C:\\Users\\PrakashAdhikari\\Documents\\temp\\lib\\site-packages\\sklearn\\utils\\validation.py:761: DataConversionWarning: A column-vector y was passed when a 1d array was expected. Please change the shape of y to (n_samples, ), for example using ravel().\n",
      "  y = column_or_1d(y, warn=True)\n",
      "C:\\Users\\PrakashAdhikari\\Documents\\temp\\lib\\site-packages\\sklearn\\utils\\validation.py:761: DataConversionWarning: A column-vector y was passed when a 1d array was expected. Please change the shape of y to (n_samples, ), for example using ravel().\n",
      "  y = column_or_1d(y, warn=True)\n",
      "C:\\Users\\PrakashAdhikari\\Documents\\temp\\lib\\site-packages\\sklearn\\utils\\validation.py:761: DataConversionWarning: A column-vector y was passed when a 1d array was expected. Please change the shape of y to (n_samples, ), for example using ravel().\n",
      "  y = column_or_1d(y, warn=True)\n",
      "C:\\Users\\PrakashAdhikari\\Documents\\temp\\lib\\site-packages\\sklearn\\utils\\validation.py:761: DataConversionWarning: A column-vector y was passed when a 1d array was expected. Please change the shape of y to (n_samples, ), for example using ravel().\n",
      "  y = column_or_1d(y, warn=True)\n",
      "C:\\Users\\PrakashAdhikari\\Documents\\temp\\lib\\site-packages\\sklearn\\utils\\validation.py:761: DataConversionWarning: A column-vector y was passed when a 1d array was expected. Please change the shape of y to (n_samples, ), for example using ravel().\n",
      "  y = column_or_1d(y, warn=True)\n",
      "C:\\Users\\PrakashAdhikari\\Documents\\temp\\lib\\site-packages\\sklearn\\utils\\validation.py:761: DataConversionWarning: A column-vector y was passed when a 1d array was expected. Please change the shape of y to (n_samples, ), for example using ravel().\n",
      "  y = column_or_1d(y, warn=True)\n",
      "C:\\Users\\PrakashAdhikari\\Documents\\temp\\lib\\site-packages\\sklearn\\utils\\validation.py:761: DataConversionWarning: A column-vector y was passed when a 1d array was expected. Please change the shape of y to (n_samples, ), for example using ravel().\n",
      "  y = column_or_1d(y, warn=True)\n",
      "C:\\Users\\PrakashAdhikari\\Documents\\temp\\lib\\site-packages\\sklearn\\utils\\validation.py:761: DataConversionWarning: A column-vector y was passed when a 1d array was expected. Please change the shape of y to (n_samples, ), for example using ravel().\n",
      "  y = column_or_1d(y, warn=True)\n",
      "C:\\Users\\PrakashAdhikari\\Documents\\temp\\lib\\site-packages\\sklearn\\utils\\validation.py:761: DataConversionWarning: A column-vector y was passed when a 1d array was expected. Please change the shape of y to (n_samples, ), for example using ravel().\n",
      "  y = column_or_1d(y, warn=True)\n",
      "C:\\Users\\PrakashAdhikari\\Documents\\temp\\lib\\site-packages\\sklearn\\utils\\validation.py:761: DataConversionWarning: A column-vector y was passed when a 1d array was expected. Please change the shape of y to (n_samples, ), for example using ravel().\n",
      "  y = column_or_1d(y, warn=True)\n",
      "C:\\Users\\PrakashAdhikari\\Documents\\temp\\lib\\site-packages\\sklearn\\utils\\validation.py:761: DataConversionWarning: A column-vector y was passed when a 1d array was expected. Please change the shape of y to (n_samples, ), for example using ravel().\n",
      "  y = column_or_1d(y, warn=True)\n",
      "C:\\Users\\PrakashAdhikari\\Documents\\temp\\lib\\site-packages\\sklearn\\utils\\validation.py:761: DataConversionWarning: A column-vector y was passed when a 1d array was expected. Please change the shape of y to (n_samples, ), for example using ravel().\n",
      "  y = column_or_1d(y, warn=True)\n",
      "C:\\Users\\PrakashAdhikari\\Documents\\temp\\lib\\site-packages\\sklearn\\utils\\validation.py:761: DataConversionWarning: A column-vector y was passed when a 1d array was expected. Please change the shape of y to (n_samples, ), for example using ravel().\n",
      "  y = column_or_1d(y, warn=True)\n",
      "C:\\Users\\PrakashAdhikari\\Documents\\temp\\lib\\site-packages\\sklearn\\utils\\validation.py:761: DataConversionWarning: A column-vector y was passed when a 1d array was expected. Please change the shape of y to (n_samples, ), for example using ravel().\n",
      "  y = column_or_1d(y, warn=True)\n",
      "C:\\Users\\PrakashAdhikari\\Documents\\temp\\lib\\site-packages\\sklearn\\utils\\validation.py:761: DataConversionWarning: A column-vector y was passed when a 1d array was expected. Please change the shape of y to (n_samples, ), for example using ravel().\n",
      "  y = column_or_1d(y, warn=True)\n",
      "C:\\Users\\PrakashAdhikari\\Documents\\temp\\lib\\site-packages\\sklearn\\utils\\validation.py:761: DataConversionWarning: A column-vector y was passed when a 1d array was expected. Please change the shape of y to (n_samples, ), for example using ravel().\n",
      "  y = column_or_1d(y, warn=True)\n",
      "C:\\Users\\PrakashAdhikari\\Documents\\temp\\lib\\site-packages\\sklearn\\utils\\validation.py:761: DataConversionWarning: A column-vector y was passed when a 1d array was expected. Please change the shape of y to (n_samples, ), for example using ravel().\n",
      "  y = column_or_1d(y, warn=True)\n",
      "C:\\Users\\PrakashAdhikari\\Documents\\temp\\lib\\site-packages\\sklearn\\utils\\validation.py:761: DataConversionWarning: A column-vector y was passed when a 1d array was expected. Please change the shape of y to (n_samples, ), for example using ravel().\n",
      "  y = column_or_1d(y, warn=True)\n",
      "C:\\Users\\PrakashAdhikari\\Documents\\temp\\lib\\site-packages\\sklearn\\utils\\validation.py:761: DataConversionWarning: A column-vector y was passed when a 1d array was expected. Please change the shape of y to (n_samples, ), for example using ravel().\n",
      "  y = column_or_1d(y, warn=True)\n",
      "C:\\Users\\PrakashAdhikari\\Documents\\temp\\lib\\site-packages\\sklearn\\utils\\validation.py:761: DataConversionWarning: A column-vector y was passed when a 1d array was expected. Please change the shape of y to (n_samples, ), for example using ravel().\n",
      "  y = column_or_1d(y, warn=True)\n",
      "C:\\Users\\PrakashAdhikari\\Documents\\temp\\lib\\site-packages\\sklearn\\utils\\validation.py:761: DataConversionWarning: A column-vector y was passed when a 1d array was expected. Please change the shape of y to (n_samples, ), for example using ravel().\n",
      "  y = column_or_1d(y, warn=True)\n",
      "C:\\Users\\PrakashAdhikari\\Documents\\temp\\lib\\site-packages\\sklearn\\utils\\validation.py:761: DataConversionWarning: A column-vector y was passed when a 1d array was expected. Please change the shape of y to (n_samples, ), for example using ravel().\n",
      "  y = column_or_1d(y, warn=True)\n",
      "C:\\Users\\PrakashAdhikari\\Documents\\temp\\lib\\site-packages\\sklearn\\utils\\validation.py:761: DataConversionWarning: A column-vector y was passed when a 1d array was expected. Please change the shape of y to (n_samples, ), for example using ravel().\n",
      "  y = column_or_1d(y, warn=True)\n"
     ]
    },
    {
     "name": "stderr",
     "output_type": "stream",
     "text": [
      "C:\\Users\\PrakashAdhikari\\Documents\\temp\\lib\\site-packages\\sklearn\\utils\\validation.py:761: DataConversionWarning: A column-vector y was passed when a 1d array was expected. Please change the shape of y to (n_samples, ), for example using ravel().\n",
      "  y = column_or_1d(y, warn=True)\n",
      "C:\\Users\\PrakashAdhikari\\Documents\\temp\\lib\\site-packages\\sklearn\\utils\\validation.py:761: DataConversionWarning: A column-vector y was passed when a 1d array was expected. Please change the shape of y to (n_samples, ), for example using ravel().\n",
      "  y = column_or_1d(y, warn=True)\n",
      "C:\\Users\\PrakashAdhikari\\Documents\\temp\\lib\\site-packages\\sklearn\\utils\\validation.py:761: DataConversionWarning: A column-vector y was passed when a 1d array was expected. Please change the shape of y to (n_samples, ), for example using ravel().\n",
      "  y = column_or_1d(y, warn=True)\n",
      "C:\\Users\\PrakashAdhikari\\Documents\\temp\\lib\\site-packages\\sklearn\\utils\\validation.py:761: DataConversionWarning: A column-vector y was passed when a 1d array was expected. Please change the shape of y to (n_samples, ), for example using ravel().\n",
      "  y = column_or_1d(y, warn=True)\n",
      "C:\\Users\\PrakashAdhikari\\Documents\\temp\\lib\\site-packages\\sklearn\\utils\\validation.py:761: DataConversionWarning: A column-vector y was passed when a 1d array was expected. Please change the shape of y to (n_samples, ), for example using ravel().\n",
      "  y = column_or_1d(y, warn=True)\n",
      "C:\\Users\\PrakashAdhikari\\Documents\\temp\\lib\\site-packages\\sklearn\\utils\\validation.py:761: DataConversionWarning: A column-vector y was passed when a 1d array was expected. Please change the shape of y to (n_samples, ), for example using ravel().\n",
      "  y = column_or_1d(y, warn=True)\n",
      "C:\\Users\\PrakashAdhikari\\Documents\\temp\\lib\\site-packages\\sklearn\\utils\\validation.py:761: DataConversionWarning: A column-vector y was passed when a 1d array was expected. Please change the shape of y to (n_samples, ), for example using ravel().\n",
      "  y = column_or_1d(y, warn=True)\n",
      "C:\\Users\\PrakashAdhikari\\Documents\\temp\\lib\\site-packages\\sklearn\\utils\\validation.py:761: DataConversionWarning: A column-vector y was passed when a 1d array was expected. Please change the shape of y to (n_samples, ), for example using ravel().\n",
      "  y = column_or_1d(y, warn=True)\n",
      "C:\\Users\\PrakashAdhikari\\Documents\\temp\\lib\\site-packages\\sklearn\\utils\\validation.py:761: DataConversionWarning: A column-vector y was passed when a 1d array was expected. Please change the shape of y to (n_samples, ), for example using ravel().\n",
      "  y = column_or_1d(y, warn=True)\n",
      "C:\\Users\\PrakashAdhikari\\Documents\\temp\\lib\\site-packages\\sklearn\\utils\\validation.py:761: DataConversionWarning: A column-vector y was passed when a 1d array was expected. Please change the shape of y to (n_samples, ), for example using ravel().\n",
      "  y = column_or_1d(y, warn=True)\n",
      "C:\\Users\\PrakashAdhikari\\Documents\\temp\\lib\\site-packages\\sklearn\\utils\\validation.py:761: DataConversionWarning: A column-vector y was passed when a 1d array was expected. Please change the shape of y to (n_samples, ), for example using ravel().\n",
      "  y = column_or_1d(y, warn=True)\n",
      "C:\\Users\\PrakashAdhikari\\Documents\\temp\\lib\\site-packages\\sklearn\\utils\\validation.py:761: DataConversionWarning: A column-vector y was passed when a 1d array was expected. Please change the shape of y to (n_samples, ), for example using ravel().\n",
      "  y = column_or_1d(y, warn=True)\n",
      "C:\\Users\\PrakashAdhikari\\Documents\\temp\\lib\\site-packages\\sklearn\\utils\\validation.py:761: DataConversionWarning: A column-vector y was passed when a 1d array was expected. Please change the shape of y to (n_samples, ), for example using ravel().\n",
      "  y = column_or_1d(y, warn=True)\n",
      "C:\\Users\\PrakashAdhikari\\Documents\\temp\\lib\\site-packages\\sklearn\\utils\\validation.py:761: DataConversionWarning: A column-vector y was passed when a 1d array was expected. Please change the shape of y to (n_samples, ), for example using ravel().\n",
      "  y = column_or_1d(y, warn=True)\n",
      "C:\\Users\\PrakashAdhikari\\Documents\\temp\\lib\\site-packages\\sklearn\\utils\\validation.py:761: DataConversionWarning: A column-vector y was passed when a 1d array was expected. Please change the shape of y to (n_samples, ), for example using ravel().\n",
      "  y = column_or_1d(y, warn=True)\n",
      "C:\\Users\\PrakashAdhikari\\Documents\\temp\\lib\\site-packages\\sklearn\\utils\\validation.py:761: DataConversionWarning: A column-vector y was passed when a 1d array was expected. Please change the shape of y to (n_samples, ), for example using ravel().\n",
      "  y = column_or_1d(y, warn=True)\n",
      "C:\\Users\\PrakashAdhikari\\Documents\\temp\\lib\\site-packages\\sklearn\\utils\\validation.py:761: DataConversionWarning: A column-vector y was passed when a 1d array was expected. Please change the shape of y to (n_samples, ), for example using ravel().\n",
      "  y = column_or_1d(y, warn=True)\n",
      "C:\\Users\\PrakashAdhikari\\Documents\\temp\\lib\\site-packages\\sklearn\\utils\\validation.py:761: DataConversionWarning: A column-vector y was passed when a 1d array was expected. Please change the shape of y to (n_samples, ), for example using ravel().\n",
      "  y = column_or_1d(y, warn=True)\n",
      "C:\\Users\\PrakashAdhikari\\Documents\\temp\\lib\\site-packages\\sklearn\\utils\\validation.py:761: DataConversionWarning: A column-vector y was passed when a 1d array was expected. Please change the shape of y to (n_samples, ), for example using ravel().\n",
      "  y = column_or_1d(y, warn=True)\n",
      "C:\\Users\\PrakashAdhikari\\Documents\\temp\\lib\\site-packages\\sklearn\\utils\\validation.py:761: DataConversionWarning: A column-vector y was passed when a 1d array was expected. Please change the shape of y to (n_samples, ), for example using ravel().\n",
      "  y = column_or_1d(y, warn=True)\n",
      "C:\\Users\\PrakashAdhikari\\Documents\\temp\\lib\\site-packages\\sklearn\\utils\\validation.py:761: DataConversionWarning: A column-vector y was passed when a 1d array was expected. Please change the shape of y to (n_samples, ), for example using ravel().\n",
      "  y = column_or_1d(y, warn=True)\n",
      "C:\\Users\\PrakashAdhikari\\Documents\\temp\\lib\\site-packages\\sklearn\\utils\\validation.py:761: DataConversionWarning: A column-vector y was passed when a 1d array was expected. Please change the shape of y to (n_samples, ), for example using ravel().\n",
      "  y = column_or_1d(y, warn=True)\n",
      "C:\\Users\\PrakashAdhikari\\Documents\\temp\\lib\\site-packages\\sklearn\\utils\\validation.py:761: DataConversionWarning: A column-vector y was passed when a 1d array was expected. Please change the shape of y to (n_samples, ), for example using ravel().\n",
      "  y = column_or_1d(y, warn=True)\n",
      "C:\\Users\\PrakashAdhikari\\Documents\\temp\\lib\\site-packages\\sklearn\\utils\\validation.py:761: DataConversionWarning: A column-vector y was passed when a 1d array was expected. Please change the shape of y to (n_samples, ), for example using ravel().\n",
      "  y = column_or_1d(y, warn=True)\n",
      "C:\\Users\\PrakashAdhikari\\Documents\\temp\\lib\\site-packages\\sklearn\\utils\\validation.py:761: DataConversionWarning: A column-vector y was passed when a 1d array was expected. Please change the shape of y to (n_samples, ), for example using ravel().\n",
      "  y = column_or_1d(y, warn=True)\n"
     ]
    },
    {
     "data": {
      "text/plain": [
       "GridSearchCV(cv=2, error_score='raise-deprecating',\n",
       "       estimator=SVC(C=1.0, cache_size=200, class_weight=None, coef0=0.0,\n",
       "  decision_function_shape='ovr', degree=3, gamma='auto_deprecated',\n",
       "  kernel='rbf', max_iter=-1, probability=False, random_state=None,\n",
       "  shrinking=True, tol=0.001, verbose=False),\n",
       "       fit_params=None, iid='warn', n_jobs=None,\n",
       "       param_grid={'C': [0.0001, 0.001, 0.01, 0.1, 1.0, 10], 'kernel': ['rbf'], 'gamma': ['auto', 'scale', 0.001, 0.01, 0.1, 1.0, 10.0]},\n",
       "       pre_dispatch='2*n_jobs', refit=True, return_train_score='warn',\n",
       "       scoring=None, verbose=0)"
      ]
     },
     "execution_count": 40,
     "metadata": {},
     "output_type": "execute_result"
    }
   ],
   "source": [
    "clf.fit(X_train_pca, y_train)"
   ]
  },
  {
   "cell_type": "code",
   "execution_count": 41,
   "metadata": {},
   "outputs": [],
   "source": [
    "y_pred = clf.predict(X_valid_pca)"
   ]
  },
  {
   "cell_type": "code",
   "execution_count": 42,
   "metadata": {},
   "outputs": [
    {
     "name": "stdout",
     "output_type": "stream",
     "text": [
      "[[254   6   1   7   2]\n",
      " [  7 231   3  10   4]\n",
      " [ 11   4 290   9   8]\n",
      " [  7   8   7 263   3]\n",
      " [  5   7  11   8 274]]\n",
      "              precision    recall  f1-score   support\n",
      "\n",
      "           0       0.89      0.94      0.92       270\n",
      "           1       0.90      0.91      0.90       255\n",
      "           2       0.93      0.90      0.91       322\n",
      "           3       0.89      0.91      0.90       288\n",
      "           4       0.94      0.90      0.92       305\n",
      "\n",
      "   micro avg       0.91      0.91      0.91      1440\n",
      "   macro avg       0.91      0.91      0.91      1440\n",
      "weighted avg       0.91      0.91      0.91      1440\n",
      "\n"
     ]
    }
   ],
   "source": [
    "print(confusion_matrix(y_valid,y_pred))  \n",
    "print(classification_report(y_valid,y_pred))"
   ]
  },
  {
   "cell_type": "code",
   "execution_count": 43,
   "metadata": {},
   "outputs": [
    {
     "name": "stdout",
     "output_type": "stream",
     "text": [
      "The accuracy of the Naive Baise on the validation data set  is: 0.9111111111111111\n"
     ]
    }
   ],
   "source": [
    "svm_ac = accuracy_score(y_valid, y_pred)\n",
    "print (\"The accuracy of the Naive Baise on the validation data set  is:\", svm_ac)\n"
   ]
  },
  {
   "cell_type": "code",
   "execution_count": 44,
   "metadata": {},
   "outputs": [
    {
     "name": "stdout",
     "output_type": "stream",
     "text": [
      "{'C': 10, 'gamma': 'scale', 'kernel': 'rbf'}\n"
     ]
    }
   ],
   "source": [
    "# print best parameter after tuning \n",
    "print(clf.best_params_) "
   ]
  },
  {
   "cell_type": "code",
   "execution_count": 45,
   "metadata": {},
   "outputs": [
    {
     "name": "stdout",
     "output_type": "stream",
     "text": [
      "SVC(C=10, cache_size=200, class_weight=None, coef0=0.0,\n",
      "  decision_function_shape='ovr', degree=3, gamma='scale', kernel='rbf',\n",
      "  max_iter=-1, probability=False, random_state=None, shrinking=True,\n",
      "  tol=0.001, verbose=False)\n"
     ]
    }
   ],
   "source": [
    "# print how our model looks after hyper-parameter tuning \n",
    "print(clf.best_estimator_)"
   ]
  },
  {
   "cell_type": "code",
   "execution_count": null,
   "metadata": {},
   "outputs": [],
   "source": []
  },
  {
   "cell_type": "code",
   "execution_count": null,
   "metadata": {},
   "outputs": [],
   "source": []
  },
  {
   "cell_type": "markdown",
   "metadata": {},
   "source": [
    "### Lets Document all the models and their corresponding Accuracies"
   ]
  },
  {
   "cell_type": "code",
   "execution_count": 46,
   "metadata": {},
   "outputs": [
    {
     "data": {
      "text/html": [
       "<div>\n",
       "<style scoped>\n",
       "    .dataframe tbody tr th:only-of-type {\n",
       "        vertical-align: middle;\n",
       "    }\n",
       "\n",
       "    .dataframe tbody tr th {\n",
       "        vertical-align: top;\n",
       "    }\n",
       "\n",
       "    .dataframe thead th {\n",
       "        text-align: right;\n",
       "    }\n",
       "</style>\n",
       "<table border=\"1\" class=\"dataframe\">\n",
       "  <thead>\n",
       "    <tr style=\"text-align: right;\">\n",
       "      <th></th>\n",
       "      <th>Model</th>\n",
       "      <th>Accuracy</th>\n",
       "    </tr>\n",
       "  </thead>\n",
       "  <tbody>\n",
       "    <tr>\n",
       "      <th>2</th>\n",
       "      <td>Support Vector Machine</td>\n",
       "      <td>0.911111</td>\n",
       "    </tr>\n",
       "    <tr>\n",
       "      <th>1</th>\n",
       "      <td>Naive Baise</td>\n",
       "      <td>0.541667</td>\n",
       "    </tr>\n",
       "    <tr>\n",
       "      <th>0</th>\n",
       "      <td>KNN Classifier</td>\n",
       "      <td>0.513889</td>\n",
       "    </tr>\n",
       "  </tbody>\n",
       "</table>\n",
       "</div>"
      ],
      "text/plain": [
       "                    Model  Accuracy\n",
       "2  Support Vector Machine  0.911111\n",
       "1             Naive Baise  0.541667\n",
       "0          KNN Classifier  0.513889"
      ]
     },
     "execution_count": 46,
     "metadata": {},
     "output_type": "execute_result"
    }
   ],
   "source": [
    "models = pd.DataFrame({\n",
    "    'Model': ['KNN Classifier','Naive Baise', 'Support Vector Machine'], #,'Neural Network'\n",
    "    'Accuracy': [ac_knn ,nb_ac,  svm_ac]}) #ac_le\n",
    "models.sort_values(by='Accuracy', ascending=False)"
   ]
  },
  {
   "cell_type": "markdown",
   "metadata": {},
   "source": [
    "From the list above, we see that the Support Vector Machine is the best models for the given data set."
   ]
  },
  {
   "cell_type": "markdown",
   "metadata": {},
   "source": [
    "Lets work with the Support Vector Machine on the data without PCA Transformation.\n",
    "The Goal is to check whether PCA Transformatio is useful or not."
   ]
  },
  {
   "cell_type": "code",
   "execution_count": 47,
   "metadata": {},
   "outputs": [],
   "source": [
    "svm= SVC()\n",
    "params = {\"C\":[1e-4, 1e-3, 1e-2, 1e-1, 1., 10], 'kernel':['rbf'], 'gamma':['auto','scale', 1e-3, 1e-2, 1e-1, 1., 10.]}\n",
    "clf = GridSearchCV(svm, params, cv=2)"
   ]
  },
  {
   "cell_type": "code",
   "execution_count": 48,
   "metadata": {
    "scrolled": true
   },
   "outputs": [
    {
     "name": "stderr",
     "output_type": "stream",
     "text": [
      "C:\\Users\\PrakashAdhikari\\Documents\\temp\\lib\\site-packages\\sklearn\\utils\\validation.py:761: DataConversionWarning: A column-vector y was passed when a 1d array was expected. Please change the shape of y to (n_samples, ), for example using ravel().\n",
      "  y = column_or_1d(y, warn=True)\n",
      "C:\\Users\\PrakashAdhikari\\Documents\\temp\\lib\\site-packages\\sklearn\\utils\\validation.py:761: DataConversionWarning: A column-vector y was passed when a 1d array was expected. Please change the shape of y to (n_samples, ), for example using ravel().\n",
      "  y = column_or_1d(y, warn=True)\n",
      "C:\\Users\\PrakashAdhikari\\Documents\\temp\\lib\\site-packages\\sklearn\\utils\\validation.py:761: DataConversionWarning: A column-vector y was passed when a 1d array was expected. Please change the shape of y to (n_samples, ), for example using ravel().\n",
      "  y = column_or_1d(y, warn=True)\n",
      "C:\\Users\\PrakashAdhikari\\Documents\\temp\\lib\\site-packages\\sklearn\\utils\\validation.py:761: DataConversionWarning: A column-vector y was passed when a 1d array was expected. Please change the shape of y to (n_samples, ), for example using ravel().\n",
      "  y = column_or_1d(y, warn=True)\n",
      "C:\\Users\\PrakashAdhikari\\Documents\\temp\\lib\\site-packages\\sklearn\\utils\\validation.py:761: DataConversionWarning: A column-vector y was passed when a 1d array was expected. Please change the shape of y to (n_samples, ), for example using ravel().\n",
      "  y = column_or_1d(y, warn=True)\n",
      "C:\\Users\\PrakashAdhikari\\Documents\\temp\\lib\\site-packages\\sklearn\\utils\\validation.py:761: DataConversionWarning: A column-vector y was passed when a 1d array was expected. Please change the shape of y to (n_samples, ), for example using ravel().\n",
      "  y = column_or_1d(y, warn=True)\n",
      "C:\\Users\\PrakashAdhikari\\Documents\\temp\\lib\\site-packages\\sklearn\\utils\\validation.py:761: DataConversionWarning: A column-vector y was passed when a 1d array was expected. Please change the shape of y to (n_samples, ), for example using ravel().\n",
      "  y = column_or_1d(y, warn=True)\n",
      "C:\\Users\\PrakashAdhikari\\Documents\\temp\\lib\\site-packages\\sklearn\\utils\\validation.py:761: DataConversionWarning: A column-vector y was passed when a 1d array was expected. Please change the shape of y to (n_samples, ), for example using ravel().\n",
      "  y = column_or_1d(y, warn=True)\n",
      "C:\\Users\\PrakashAdhikari\\Documents\\temp\\lib\\site-packages\\sklearn\\utils\\validation.py:761: DataConversionWarning: A column-vector y was passed when a 1d array was expected. Please change the shape of y to (n_samples, ), for example using ravel().\n",
      "  y = column_or_1d(y, warn=True)\n",
      "C:\\Users\\PrakashAdhikari\\Documents\\temp\\lib\\site-packages\\sklearn\\utils\\validation.py:761: DataConversionWarning: A column-vector y was passed when a 1d array was expected. Please change the shape of y to (n_samples, ), for example using ravel().\n",
      "  y = column_or_1d(y, warn=True)\n",
      "C:\\Users\\PrakashAdhikari\\Documents\\temp\\lib\\site-packages\\sklearn\\utils\\validation.py:761: DataConversionWarning: A column-vector y was passed when a 1d array was expected. Please change the shape of y to (n_samples, ), for example using ravel().\n",
      "  y = column_or_1d(y, warn=True)\n",
      "C:\\Users\\PrakashAdhikari\\Documents\\temp\\lib\\site-packages\\sklearn\\utils\\validation.py:761: DataConversionWarning: A column-vector y was passed when a 1d array was expected. Please change the shape of y to (n_samples, ), for example using ravel().\n",
      "  y = column_or_1d(y, warn=True)\n",
      "C:\\Users\\PrakashAdhikari\\Documents\\temp\\lib\\site-packages\\sklearn\\utils\\validation.py:761: DataConversionWarning: A column-vector y was passed when a 1d array was expected. Please change the shape of y to (n_samples, ), for example using ravel().\n",
      "  y = column_or_1d(y, warn=True)\n",
      "C:\\Users\\PrakashAdhikari\\Documents\\temp\\lib\\site-packages\\sklearn\\utils\\validation.py:761: DataConversionWarning: A column-vector y was passed when a 1d array was expected. Please change the shape of y to (n_samples, ), for example using ravel().\n",
      "  y = column_or_1d(y, warn=True)\n",
      "C:\\Users\\PrakashAdhikari\\Documents\\temp\\lib\\site-packages\\sklearn\\utils\\validation.py:761: DataConversionWarning: A column-vector y was passed when a 1d array was expected. Please change the shape of y to (n_samples, ), for example using ravel().\n",
      "  y = column_or_1d(y, warn=True)\n",
      "C:\\Users\\PrakashAdhikari\\Documents\\temp\\lib\\site-packages\\sklearn\\utils\\validation.py:761: DataConversionWarning: A column-vector y was passed when a 1d array was expected. Please change the shape of y to (n_samples, ), for example using ravel().\n",
      "  y = column_or_1d(y, warn=True)\n",
      "C:\\Users\\PrakashAdhikari\\Documents\\temp\\lib\\site-packages\\sklearn\\utils\\validation.py:761: DataConversionWarning: A column-vector y was passed when a 1d array was expected. Please change the shape of y to (n_samples, ), for example using ravel().\n",
      "  y = column_or_1d(y, warn=True)\n",
      "C:\\Users\\PrakashAdhikari\\Documents\\temp\\lib\\site-packages\\sklearn\\utils\\validation.py:761: DataConversionWarning: A column-vector y was passed when a 1d array was expected. Please change the shape of y to (n_samples, ), for example using ravel().\n",
      "  y = column_or_1d(y, warn=True)\n",
      "C:\\Users\\PrakashAdhikari\\Documents\\temp\\lib\\site-packages\\sklearn\\utils\\validation.py:761: DataConversionWarning: A column-vector y was passed when a 1d array was expected. Please change the shape of y to (n_samples, ), for example using ravel().\n",
      "  y = column_or_1d(y, warn=True)\n",
      "C:\\Users\\PrakashAdhikari\\Documents\\temp\\lib\\site-packages\\sklearn\\utils\\validation.py:761: DataConversionWarning: A column-vector y was passed when a 1d array was expected. Please change the shape of y to (n_samples, ), for example using ravel().\n",
      "  y = column_or_1d(y, warn=True)\n",
      "C:\\Users\\PrakashAdhikari\\Documents\\temp\\lib\\site-packages\\sklearn\\utils\\validation.py:761: DataConversionWarning: A column-vector y was passed when a 1d array was expected. Please change the shape of y to (n_samples, ), for example using ravel().\n",
      "  y = column_or_1d(y, warn=True)\n",
      "C:\\Users\\PrakashAdhikari\\Documents\\temp\\lib\\site-packages\\sklearn\\utils\\validation.py:761: DataConversionWarning: A column-vector y was passed when a 1d array was expected. Please change the shape of y to (n_samples, ), for example using ravel().\n",
      "  y = column_or_1d(y, warn=True)\n",
      "C:\\Users\\PrakashAdhikari\\Documents\\temp\\lib\\site-packages\\sklearn\\utils\\validation.py:761: DataConversionWarning: A column-vector y was passed when a 1d array was expected. Please change the shape of y to (n_samples, ), for example using ravel().\n",
      "  y = column_or_1d(y, warn=True)\n",
      "C:\\Users\\PrakashAdhikari\\Documents\\temp\\lib\\site-packages\\sklearn\\utils\\validation.py:761: DataConversionWarning: A column-vector y was passed when a 1d array was expected. Please change the shape of y to (n_samples, ), for example using ravel().\n",
      "  y = column_or_1d(y, warn=True)\n",
      "C:\\Users\\PrakashAdhikari\\Documents\\temp\\lib\\site-packages\\sklearn\\utils\\validation.py:761: DataConversionWarning: A column-vector y was passed when a 1d array was expected. Please change the shape of y to (n_samples, ), for example using ravel().\n",
      "  y = column_or_1d(y, warn=True)\n",
      "C:\\Users\\PrakashAdhikari\\Documents\\temp\\lib\\site-packages\\sklearn\\utils\\validation.py:761: DataConversionWarning: A column-vector y was passed when a 1d array was expected. Please change the shape of y to (n_samples, ), for example using ravel().\n",
      "  y = column_or_1d(y, warn=True)\n",
      "C:\\Users\\PrakashAdhikari\\Documents\\temp\\lib\\site-packages\\sklearn\\utils\\validation.py:761: DataConversionWarning: A column-vector y was passed when a 1d array was expected. Please change the shape of y to (n_samples, ), for example using ravel().\n",
      "  y = column_or_1d(y, warn=True)\n",
      "C:\\Users\\PrakashAdhikari\\Documents\\temp\\lib\\site-packages\\sklearn\\utils\\validation.py:761: DataConversionWarning: A column-vector y was passed when a 1d array was expected. Please change the shape of y to (n_samples, ), for example using ravel().\n",
      "  y = column_or_1d(y, warn=True)\n",
      "C:\\Users\\PrakashAdhikari\\Documents\\temp\\lib\\site-packages\\sklearn\\utils\\validation.py:761: DataConversionWarning: A column-vector y was passed when a 1d array was expected. Please change the shape of y to (n_samples, ), for example using ravel().\n",
      "  y = column_or_1d(y, warn=True)\n",
      "C:\\Users\\PrakashAdhikari\\Documents\\temp\\lib\\site-packages\\sklearn\\utils\\validation.py:761: DataConversionWarning: A column-vector y was passed when a 1d array was expected. Please change the shape of y to (n_samples, ), for example using ravel().\n",
      "  y = column_or_1d(y, warn=True)\n"
     ]
    },
    {
     "name": "stderr",
     "output_type": "stream",
     "text": [
      "C:\\Users\\PrakashAdhikari\\Documents\\temp\\lib\\site-packages\\sklearn\\utils\\validation.py:761: DataConversionWarning: A column-vector y was passed when a 1d array was expected. Please change the shape of y to (n_samples, ), for example using ravel().\n",
      "  y = column_or_1d(y, warn=True)\n",
      "C:\\Users\\PrakashAdhikari\\Documents\\temp\\lib\\site-packages\\sklearn\\utils\\validation.py:761: DataConversionWarning: A column-vector y was passed when a 1d array was expected. Please change the shape of y to (n_samples, ), for example using ravel().\n",
      "  y = column_or_1d(y, warn=True)\n",
      "C:\\Users\\PrakashAdhikari\\Documents\\temp\\lib\\site-packages\\sklearn\\utils\\validation.py:761: DataConversionWarning: A column-vector y was passed when a 1d array was expected. Please change the shape of y to (n_samples, ), for example using ravel().\n",
      "  y = column_or_1d(y, warn=True)\n",
      "C:\\Users\\PrakashAdhikari\\Documents\\temp\\lib\\site-packages\\sklearn\\utils\\validation.py:761: DataConversionWarning: A column-vector y was passed when a 1d array was expected. Please change the shape of y to (n_samples, ), for example using ravel().\n",
      "  y = column_or_1d(y, warn=True)\n",
      "C:\\Users\\PrakashAdhikari\\Documents\\temp\\lib\\site-packages\\sklearn\\utils\\validation.py:761: DataConversionWarning: A column-vector y was passed when a 1d array was expected. Please change the shape of y to (n_samples, ), for example using ravel().\n",
      "  y = column_or_1d(y, warn=True)\n",
      "C:\\Users\\PrakashAdhikari\\Documents\\temp\\lib\\site-packages\\sklearn\\utils\\validation.py:761: DataConversionWarning: A column-vector y was passed when a 1d array was expected. Please change the shape of y to (n_samples, ), for example using ravel().\n",
      "  y = column_or_1d(y, warn=True)\n",
      "C:\\Users\\PrakashAdhikari\\Documents\\temp\\lib\\site-packages\\sklearn\\utils\\validation.py:761: DataConversionWarning: A column-vector y was passed when a 1d array was expected. Please change the shape of y to (n_samples, ), for example using ravel().\n",
      "  y = column_or_1d(y, warn=True)\n",
      "C:\\Users\\PrakashAdhikari\\Documents\\temp\\lib\\site-packages\\sklearn\\utils\\validation.py:761: DataConversionWarning: A column-vector y was passed when a 1d array was expected. Please change the shape of y to (n_samples, ), for example using ravel().\n",
      "  y = column_or_1d(y, warn=True)\n",
      "C:\\Users\\PrakashAdhikari\\Documents\\temp\\lib\\site-packages\\sklearn\\utils\\validation.py:761: DataConversionWarning: A column-vector y was passed when a 1d array was expected. Please change the shape of y to (n_samples, ), for example using ravel().\n",
      "  y = column_or_1d(y, warn=True)\n",
      "C:\\Users\\PrakashAdhikari\\Documents\\temp\\lib\\site-packages\\sklearn\\utils\\validation.py:761: DataConversionWarning: A column-vector y was passed when a 1d array was expected. Please change the shape of y to (n_samples, ), for example using ravel().\n",
      "  y = column_or_1d(y, warn=True)\n",
      "C:\\Users\\PrakashAdhikari\\Documents\\temp\\lib\\site-packages\\sklearn\\utils\\validation.py:761: DataConversionWarning: A column-vector y was passed when a 1d array was expected. Please change the shape of y to (n_samples, ), for example using ravel().\n",
      "  y = column_or_1d(y, warn=True)\n",
      "C:\\Users\\PrakashAdhikari\\Documents\\temp\\lib\\site-packages\\sklearn\\utils\\validation.py:761: DataConversionWarning: A column-vector y was passed when a 1d array was expected. Please change the shape of y to (n_samples, ), for example using ravel().\n",
      "  y = column_or_1d(y, warn=True)\n",
      "C:\\Users\\PrakashAdhikari\\Documents\\temp\\lib\\site-packages\\sklearn\\utils\\validation.py:761: DataConversionWarning: A column-vector y was passed when a 1d array was expected. Please change the shape of y to (n_samples, ), for example using ravel().\n",
      "  y = column_or_1d(y, warn=True)\n",
      "C:\\Users\\PrakashAdhikari\\Documents\\temp\\lib\\site-packages\\sklearn\\utils\\validation.py:761: DataConversionWarning: A column-vector y was passed when a 1d array was expected. Please change the shape of y to (n_samples, ), for example using ravel().\n",
      "  y = column_or_1d(y, warn=True)\n",
      "C:\\Users\\PrakashAdhikari\\Documents\\temp\\lib\\site-packages\\sklearn\\utils\\validation.py:761: DataConversionWarning: A column-vector y was passed when a 1d array was expected. Please change the shape of y to (n_samples, ), for example using ravel().\n",
      "  y = column_or_1d(y, warn=True)\n",
      "C:\\Users\\PrakashAdhikari\\Documents\\temp\\lib\\site-packages\\sklearn\\utils\\validation.py:761: DataConversionWarning: A column-vector y was passed when a 1d array was expected. Please change the shape of y to (n_samples, ), for example using ravel().\n",
      "  y = column_or_1d(y, warn=True)\n",
      "C:\\Users\\PrakashAdhikari\\Documents\\temp\\lib\\site-packages\\sklearn\\utils\\validation.py:761: DataConversionWarning: A column-vector y was passed when a 1d array was expected. Please change the shape of y to (n_samples, ), for example using ravel().\n",
      "  y = column_or_1d(y, warn=True)\n",
      "C:\\Users\\PrakashAdhikari\\Documents\\temp\\lib\\site-packages\\sklearn\\utils\\validation.py:761: DataConversionWarning: A column-vector y was passed when a 1d array was expected. Please change the shape of y to (n_samples, ), for example using ravel().\n",
      "  y = column_or_1d(y, warn=True)\n",
      "C:\\Users\\PrakashAdhikari\\Documents\\temp\\lib\\site-packages\\sklearn\\utils\\validation.py:761: DataConversionWarning: A column-vector y was passed when a 1d array was expected. Please change the shape of y to (n_samples, ), for example using ravel().\n",
      "  y = column_or_1d(y, warn=True)\n",
      "C:\\Users\\PrakashAdhikari\\Documents\\temp\\lib\\site-packages\\sklearn\\utils\\validation.py:761: DataConversionWarning: A column-vector y was passed when a 1d array was expected. Please change the shape of y to (n_samples, ), for example using ravel().\n",
      "  y = column_or_1d(y, warn=True)\n",
      "C:\\Users\\PrakashAdhikari\\Documents\\temp\\lib\\site-packages\\sklearn\\utils\\validation.py:761: DataConversionWarning: A column-vector y was passed when a 1d array was expected. Please change the shape of y to (n_samples, ), for example using ravel().\n",
      "  y = column_or_1d(y, warn=True)\n",
      "C:\\Users\\PrakashAdhikari\\Documents\\temp\\lib\\site-packages\\sklearn\\utils\\validation.py:761: DataConversionWarning: A column-vector y was passed when a 1d array was expected. Please change the shape of y to (n_samples, ), for example using ravel().\n",
      "  y = column_or_1d(y, warn=True)\n",
      "C:\\Users\\PrakashAdhikari\\Documents\\temp\\lib\\site-packages\\sklearn\\utils\\validation.py:761: DataConversionWarning: A column-vector y was passed when a 1d array was expected. Please change the shape of y to (n_samples, ), for example using ravel().\n",
      "  y = column_or_1d(y, warn=True)\n",
      "C:\\Users\\PrakashAdhikari\\Documents\\temp\\lib\\site-packages\\sklearn\\utils\\validation.py:761: DataConversionWarning: A column-vector y was passed when a 1d array was expected. Please change the shape of y to (n_samples, ), for example using ravel().\n",
      "  y = column_or_1d(y, warn=True)\n",
      "C:\\Users\\PrakashAdhikari\\Documents\\temp\\lib\\site-packages\\sklearn\\utils\\validation.py:761: DataConversionWarning: A column-vector y was passed when a 1d array was expected. Please change the shape of y to (n_samples, ), for example using ravel().\n",
      "  y = column_or_1d(y, warn=True)\n",
      "C:\\Users\\PrakashAdhikari\\Documents\\temp\\lib\\site-packages\\sklearn\\utils\\validation.py:761: DataConversionWarning: A column-vector y was passed when a 1d array was expected. Please change the shape of y to (n_samples, ), for example using ravel().\n",
      "  y = column_or_1d(y, warn=True)\n",
      "C:\\Users\\PrakashAdhikari\\Documents\\temp\\lib\\site-packages\\sklearn\\utils\\validation.py:761: DataConversionWarning: A column-vector y was passed when a 1d array was expected. Please change the shape of y to (n_samples, ), for example using ravel().\n",
      "  y = column_or_1d(y, warn=True)\n",
      "C:\\Users\\PrakashAdhikari\\Documents\\temp\\lib\\site-packages\\sklearn\\utils\\validation.py:761: DataConversionWarning: A column-vector y was passed when a 1d array was expected. Please change the shape of y to (n_samples, ), for example using ravel().\n",
      "  y = column_or_1d(y, warn=True)\n",
      "C:\\Users\\PrakashAdhikari\\Documents\\temp\\lib\\site-packages\\sklearn\\utils\\validation.py:761: DataConversionWarning: A column-vector y was passed when a 1d array was expected. Please change the shape of y to (n_samples, ), for example using ravel().\n",
      "  y = column_or_1d(y, warn=True)\n",
      "C:\\Users\\PrakashAdhikari\\Documents\\temp\\lib\\site-packages\\sklearn\\utils\\validation.py:761: DataConversionWarning: A column-vector y was passed when a 1d array was expected. Please change the shape of y to (n_samples, ), for example using ravel().\n",
      "  y = column_or_1d(y, warn=True)\n"
     ]
    },
    {
     "name": "stderr",
     "output_type": "stream",
     "text": [
      "C:\\Users\\PrakashAdhikari\\Documents\\temp\\lib\\site-packages\\sklearn\\utils\\validation.py:761: DataConversionWarning: A column-vector y was passed when a 1d array was expected. Please change the shape of y to (n_samples, ), for example using ravel().\n",
      "  y = column_or_1d(y, warn=True)\n",
      "C:\\Users\\PrakashAdhikari\\Documents\\temp\\lib\\site-packages\\sklearn\\utils\\validation.py:761: DataConversionWarning: A column-vector y was passed when a 1d array was expected. Please change the shape of y to (n_samples, ), for example using ravel().\n",
      "  y = column_or_1d(y, warn=True)\n",
      "C:\\Users\\PrakashAdhikari\\Documents\\temp\\lib\\site-packages\\sklearn\\utils\\validation.py:761: DataConversionWarning: A column-vector y was passed when a 1d array was expected. Please change the shape of y to (n_samples, ), for example using ravel().\n",
      "  y = column_or_1d(y, warn=True)\n",
      "C:\\Users\\PrakashAdhikari\\Documents\\temp\\lib\\site-packages\\sklearn\\utils\\validation.py:761: DataConversionWarning: A column-vector y was passed when a 1d array was expected. Please change the shape of y to (n_samples, ), for example using ravel().\n",
      "  y = column_or_1d(y, warn=True)\n",
      "C:\\Users\\PrakashAdhikari\\Documents\\temp\\lib\\site-packages\\sklearn\\utils\\validation.py:761: DataConversionWarning: A column-vector y was passed when a 1d array was expected. Please change the shape of y to (n_samples, ), for example using ravel().\n",
      "  y = column_or_1d(y, warn=True)\n",
      "C:\\Users\\PrakashAdhikari\\Documents\\temp\\lib\\site-packages\\sklearn\\utils\\validation.py:761: DataConversionWarning: A column-vector y was passed when a 1d array was expected. Please change the shape of y to (n_samples, ), for example using ravel().\n",
      "  y = column_or_1d(y, warn=True)\n",
      "C:\\Users\\PrakashAdhikari\\Documents\\temp\\lib\\site-packages\\sklearn\\utils\\validation.py:761: DataConversionWarning: A column-vector y was passed when a 1d array was expected. Please change the shape of y to (n_samples, ), for example using ravel().\n",
      "  y = column_or_1d(y, warn=True)\n",
      "C:\\Users\\PrakashAdhikari\\Documents\\temp\\lib\\site-packages\\sklearn\\utils\\validation.py:761: DataConversionWarning: A column-vector y was passed when a 1d array was expected. Please change the shape of y to (n_samples, ), for example using ravel().\n",
      "  y = column_or_1d(y, warn=True)\n",
      "C:\\Users\\PrakashAdhikari\\Documents\\temp\\lib\\site-packages\\sklearn\\utils\\validation.py:761: DataConversionWarning: A column-vector y was passed when a 1d array was expected. Please change the shape of y to (n_samples, ), for example using ravel().\n",
      "  y = column_or_1d(y, warn=True)\n",
      "C:\\Users\\PrakashAdhikari\\Documents\\temp\\lib\\site-packages\\sklearn\\utils\\validation.py:761: DataConversionWarning: A column-vector y was passed when a 1d array was expected. Please change the shape of y to (n_samples, ), for example using ravel().\n",
      "  y = column_or_1d(y, warn=True)\n",
      "C:\\Users\\PrakashAdhikari\\Documents\\temp\\lib\\site-packages\\sklearn\\utils\\validation.py:761: DataConversionWarning: A column-vector y was passed when a 1d array was expected. Please change the shape of y to (n_samples, ), for example using ravel().\n",
      "  y = column_or_1d(y, warn=True)\n",
      "C:\\Users\\PrakashAdhikari\\Documents\\temp\\lib\\site-packages\\sklearn\\utils\\validation.py:761: DataConversionWarning: A column-vector y was passed when a 1d array was expected. Please change the shape of y to (n_samples, ), for example using ravel().\n",
      "  y = column_or_1d(y, warn=True)\n",
      "C:\\Users\\PrakashAdhikari\\Documents\\temp\\lib\\site-packages\\sklearn\\utils\\validation.py:761: DataConversionWarning: A column-vector y was passed when a 1d array was expected. Please change the shape of y to (n_samples, ), for example using ravel().\n",
      "  y = column_or_1d(y, warn=True)\n",
      "C:\\Users\\PrakashAdhikari\\Documents\\temp\\lib\\site-packages\\sklearn\\utils\\validation.py:761: DataConversionWarning: A column-vector y was passed when a 1d array was expected. Please change the shape of y to (n_samples, ), for example using ravel().\n",
      "  y = column_or_1d(y, warn=True)\n",
      "C:\\Users\\PrakashAdhikari\\Documents\\temp\\lib\\site-packages\\sklearn\\utils\\validation.py:761: DataConversionWarning: A column-vector y was passed when a 1d array was expected. Please change the shape of y to (n_samples, ), for example using ravel().\n",
      "  y = column_or_1d(y, warn=True)\n",
      "C:\\Users\\PrakashAdhikari\\Documents\\temp\\lib\\site-packages\\sklearn\\utils\\validation.py:761: DataConversionWarning: A column-vector y was passed when a 1d array was expected. Please change the shape of y to (n_samples, ), for example using ravel().\n",
      "  y = column_or_1d(y, warn=True)\n",
      "C:\\Users\\PrakashAdhikari\\Documents\\temp\\lib\\site-packages\\sklearn\\utils\\validation.py:761: DataConversionWarning: A column-vector y was passed when a 1d array was expected. Please change the shape of y to (n_samples, ), for example using ravel().\n",
      "  y = column_or_1d(y, warn=True)\n",
      "C:\\Users\\PrakashAdhikari\\Documents\\temp\\lib\\site-packages\\sklearn\\utils\\validation.py:761: DataConversionWarning: A column-vector y was passed when a 1d array was expected. Please change the shape of y to (n_samples, ), for example using ravel().\n",
      "  y = column_or_1d(y, warn=True)\n",
      "C:\\Users\\PrakashAdhikari\\Documents\\temp\\lib\\site-packages\\sklearn\\utils\\validation.py:761: DataConversionWarning: A column-vector y was passed when a 1d array was expected. Please change the shape of y to (n_samples, ), for example using ravel().\n",
      "  y = column_or_1d(y, warn=True)\n",
      "C:\\Users\\PrakashAdhikari\\Documents\\temp\\lib\\site-packages\\sklearn\\utils\\validation.py:761: DataConversionWarning: A column-vector y was passed when a 1d array was expected. Please change the shape of y to (n_samples, ), for example using ravel().\n",
      "  y = column_or_1d(y, warn=True)\n",
      "C:\\Users\\PrakashAdhikari\\Documents\\temp\\lib\\site-packages\\sklearn\\utils\\validation.py:761: DataConversionWarning: A column-vector y was passed when a 1d array was expected. Please change the shape of y to (n_samples, ), for example using ravel().\n",
      "  y = column_or_1d(y, warn=True)\n",
      "C:\\Users\\PrakashAdhikari\\Documents\\temp\\lib\\site-packages\\sklearn\\utils\\validation.py:761: DataConversionWarning: A column-vector y was passed when a 1d array was expected. Please change the shape of y to (n_samples, ), for example using ravel().\n",
      "  y = column_or_1d(y, warn=True)\n",
      "C:\\Users\\PrakashAdhikari\\Documents\\temp\\lib\\site-packages\\sklearn\\utils\\validation.py:761: DataConversionWarning: A column-vector y was passed when a 1d array was expected. Please change the shape of y to (n_samples, ), for example using ravel().\n",
      "  y = column_or_1d(y, warn=True)\n",
      "C:\\Users\\PrakashAdhikari\\Documents\\temp\\lib\\site-packages\\sklearn\\utils\\validation.py:761: DataConversionWarning: A column-vector y was passed when a 1d array was expected. Please change the shape of y to (n_samples, ), for example using ravel().\n",
      "  y = column_or_1d(y, warn=True)\n",
      "C:\\Users\\PrakashAdhikari\\Documents\\temp\\lib\\site-packages\\sklearn\\utils\\validation.py:761: DataConversionWarning: A column-vector y was passed when a 1d array was expected. Please change the shape of y to (n_samples, ), for example using ravel().\n",
      "  y = column_or_1d(y, warn=True)\n"
     ]
    },
    {
     "data": {
      "text/plain": [
       "GridSearchCV(cv=2, error_score='raise-deprecating',\n",
       "       estimator=SVC(C=1.0, cache_size=200, class_weight=None, coef0=0.0,\n",
       "  decision_function_shape='ovr', degree=3, gamma='auto_deprecated',\n",
       "  kernel='rbf', max_iter=-1, probability=False, random_state=None,\n",
       "  shrinking=True, tol=0.001, verbose=False),\n",
       "       fit_params=None, iid='warn', n_jobs=None,\n",
       "       param_grid={'C': [0.0001, 0.001, 0.01, 0.1, 1.0, 10], 'kernel': ['rbf'], 'gamma': ['auto', 'scale', 0.001, 0.01, 0.1, 1.0, 10.0]},\n",
       "       pre_dispatch='2*n_jobs', refit=True, return_train_score='warn',\n",
       "       scoring=None, verbose=0)"
      ]
     },
     "execution_count": 48,
     "metadata": {},
     "output_type": "execute_result"
    }
   ],
   "source": [
    "clf.fit(X_train, y_train)"
   ]
  },
  {
   "cell_type": "code",
   "execution_count": 49,
   "metadata": {},
   "outputs": [],
   "source": [
    "y_pred = clf.predict(X_valid)"
   ]
  },
  {
   "cell_type": "code",
   "execution_count": 50,
   "metadata": {},
   "outputs": [
    {
     "name": "stdout",
     "output_type": "stream",
     "text": [
      "[[248   7   2   9   4]\n",
      " [  6 231   2  11   5]\n",
      " [ 10   7 287  10   8]\n",
      " [  8   5   6 263   6]\n",
      " [  7   7  13   8 270]]\n",
      "              precision    recall  f1-score   support\n",
      "\n",
      "           0       0.89      0.92      0.90       270\n",
      "           1       0.90      0.91      0.90       255\n",
      "           2       0.93      0.89      0.91       322\n",
      "           3       0.87      0.91      0.89       288\n",
      "           4       0.92      0.89      0.90       305\n",
      "\n",
      "   micro avg       0.90      0.90      0.90      1440\n",
      "   macro avg       0.90      0.90      0.90      1440\n",
      "weighted avg       0.90      0.90      0.90      1440\n",
      "\n"
     ]
    }
   ],
   "source": [
    "print(confusion_matrix(y_valid,y_pred))  \n",
    "print(classification_report(y_valid,y_pred))"
   ]
  },
  {
   "cell_type": "code",
   "execution_count": 51,
   "metadata": {},
   "outputs": [
    {
     "name": "stdout",
     "output_type": "stream",
     "text": [
      "The accuracy of the Naive Baise on the validation data set  is: 0.9020833333333333\n"
     ]
    }
   ],
   "source": [
    "svm_ac = accuracy_score(y_valid, y_pred)\n",
    "print (\"The accuracy of the Naive Baise on the validation data set  is:\", svm_ac)\n"
   ]
  },
  {
   "cell_type": "code",
   "execution_count": 52,
   "metadata": {},
   "outputs": [
    {
     "name": "stdout",
     "output_type": "stream",
     "text": [
      "SVC(C=10, cache_size=200, class_weight=None, coef0=0.0,\n",
      "  decision_function_shape='ovr', degree=3, gamma='scale', kernel='rbf',\n",
      "  max_iter=-1, probability=False, random_state=None, shrinking=True,\n",
      "  tol=0.001, verbose=False)\n"
     ]
    }
   ],
   "source": [
    "# print how our model looks after hyper-parameter tuning \n",
    "print(clf.best_estimator_)"
   ]
  },
  {
   "cell_type": "markdown",
   "metadata": {},
   "source": [
    "#### Accuracies of:\n",
    "\n",
    "#### SVM Model on PCA Transformed Data: 91.11 %\n",
    "#### SVM Model on NOT PCA Transformed Data: 90.20 %\n",
    "    "
   ]
  },
  {
   "cell_type": "markdown",
   "metadata": {},
   "source": [
    "So, Finally, we found that the Support Vector Machine Model on the PCA Transformed Data is the best model for the current data set."
   ]
  },
  {
   "cell_type": "markdown",
   "metadata": {},
   "source": [
    "### SVM Model in the PCA Transformed Data on the Complete Training Data (Original) set"
   ]
  },
  {
   "cell_type": "markdown",
   "metadata": {},
   "source": [
    "Lets Fit the SVM model with the tuned hyperparamters. (Technically, I am  repeating the same process)"
   ]
  },
  {
   "cell_type": "code",
   "execution_count": 53,
   "metadata": {},
   "outputs": [],
   "source": [
    "taining_data = pca.transform(varib_train)"
   ]
  },
  {
   "cell_type": "code",
   "execution_count": 54,
   "metadata": {},
   "outputs": [],
   "source": [
    "# y_label =  label_train"
   ]
  },
  {
   "cell_type": "code",
   "execution_count": 55,
   "metadata": {},
   "outputs": [
    {
     "name": "stderr",
     "output_type": "stream",
     "text": [
      "C:\\Users\\PrakashAdhikari\\Documents\\temp\\lib\\site-packages\\sklearn\\utils\\validation.py:761: DataConversionWarning: A column-vector y was passed when a 1d array was expected. Please change the shape of y to (n_samples, ), for example using ravel().\n",
      "  y = column_or_1d(y, warn=True)\n"
     ]
    },
    {
     "data": {
      "text/plain": [
       "SVC(C=10, cache_size=200, class_weight=None, coef0=0.0,\n",
       "  decision_function_shape='ovr', degree=3, gamma='scale', kernel='rbf',\n",
       "  max_iter=-1, probability=False, random_state=None, shrinking=True,\n",
       "  tol=0.001, verbose=False)"
      ]
     },
     "execution_count": 55,
     "metadata": {},
     "output_type": "execute_result"
    }
   ],
   "source": [
    "svm = SVC(C=10, cache_size=200, class_weight=None, coef0=0.0,\n",
    "  decision_function_shape='ovr', degree=3, gamma='scale', kernel='rbf',\n",
    "  max_iter=-1, probability=False, random_state=None, shrinking=True,\n",
    "  tol=0.001, verbose=False)\n",
    "\n",
    "svm.fit(taining_data, label_train)"
   ]
  },
  {
   "cell_type": "markdown",
   "metadata": {},
   "source": [
    "## Lets Make Prediction on the Test Data and create the Label"
   ]
  },
  {
   "cell_type": "code",
   "execution_count": 56,
   "metadata": {},
   "outputs": [
    {
     "data": {
      "text/html": [
       "<div>\n",
       "<style scoped>\n",
       "    .dataframe tbody tr th:only-of-type {\n",
       "        vertical-align: middle;\n",
       "    }\n",
       "\n",
       "    .dataframe tbody tr th {\n",
       "        vertical-align: top;\n",
       "    }\n",
       "\n",
       "    .dataframe thead th {\n",
       "        text-align: right;\n",
       "    }\n",
       "</style>\n",
       "<table border=\"1\" class=\"dataframe\">\n",
       "  <thead>\n",
       "    <tr style=\"text-align: right;\">\n",
       "      <th></th>\n",
       "      <th>id</th>\n",
       "      <th>feature0</th>\n",
       "      <th>feature1</th>\n",
       "      <th>feature2</th>\n",
       "      <th>feature3</th>\n",
       "      <th>feature4</th>\n",
       "      <th>feature5</th>\n",
       "      <th>feature6</th>\n",
       "      <th>feature7</th>\n",
       "      <th>feature8</th>\n",
       "      <th>...</th>\n",
       "      <th>feature240</th>\n",
       "      <th>feature241</th>\n",
       "      <th>feature242</th>\n",
       "      <th>feature243</th>\n",
       "      <th>feature244</th>\n",
       "      <th>feature245</th>\n",
       "      <th>feature246</th>\n",
       "      <th>feature247</th>\n",
       "      <th>feature248</th>\n",
       "      <th>feature249</th>\n",
       "    </tr>\n",
       "  </thead>\n",
       "  <tbody>\n",
       "    <tr>\n",
       "      <th>0</th>\n",
       "      <td>7200</td>\n",
       "      <td>-76.795547</td>\n",
       "      <td>-12.319618</td>\n",
       "      <td>-109.961631</td>\n",
       "      <td>-11.006934</td>\n",
       "      <td>-8.770868</td>\n",
       "      <td>-1.246577</td>\n",
       "      <td>3.875265</td>\n",
       "      <td>33.877412</td>\n",
       "      <td>7.757658</td>\n",
       "      <td>...</td>\n",
       "      <td>5.515601</td>\n",
       "      <td>10.530372</td>\n",
       "      <td>6.887168</td>\n",
       "      <td>-76.231907</td>\n",
       "      <td>3.374217</td>\n",
       "      <td>-128.668656</td>\n",
       "      <td>6.001156</td>\n",
       "      <td>2.619267</td>\n",
       "      <td>-14.869630</td>\n",
       "      <td>-4.718944</td>\n",
       "    </tr>\n",
       "    <tr>\n",
       "      <th>1</th>\n",
       "      <td>7201</td>\n",
       "      <td>15.860563</td>\n",
       "      <td>-5.344301</td>\n",
       "      <td>74.481876</td>\n",
       "      <td>1.267520</td>\n",
       "      <td>7.044210</td>\n",
       "      <td>6.391507</td>\n",
       "      <td>-7.713534</td>\n",
       "      <td>-1.336639</td>\n",
       "      <td>1.197008</td>\n",
       "      <td>...</td>\n",
       "      <td>-4.515135</td>\n",
       "      <td>4.041697</td>\n",
       "      <td>-9.170853</td>\n",
       "      <td>-38.501120</td>\n",
       "      <td>0.036281</td>\n",
       "      <td>22.997648</td>\n",
       "      <td>-4.050474</td>\n",
       "      <td>-16.322332</td>\n",
       "      <td>-54.813692</td>\n",
       "      <td>14.470087</td>\n",
       "    </tr>\n",
       "    <tr>\n",
       "      <th>2</th>\n",
       "      <td>7202</td>\n",
       "      <td>21.243900</td>\n",
       "      <td>-7.539082</td>\n",
       "      <td>-13.128054</td>\n",
       "      <td>-7.283449</td>\n",
       "      <td>1.430600</td>\n",
       "      <td>8.113846</td>\n",
       "      <td>-7.219936</td>\n",
       "      <td>-83.107625</td>\n",
       "      <td>-7.449005</td>\n",
       "      <td>...</td>\n",
       "      <td>-1.748731</td>\n",
       "      <td>-2.171528</td>\n",
       "      <td>16.292004</td>\n",
       "      <td>30.960787</td>\n",
       "      <td>0.380944</td>\n",
       "      <td>-86.906365</td>\n",
       "      <td>14.387590</td>\n",
       "      <td>-3.615364</td>\n",
       "      <td>160.603909</td>\n",
       "      <td>-11.330304</td>\n",
       "    </tr>\n",
       "    <tr>\n",
       "      <th>3</th>\n",
       "      <td>7203</td>\n",
       "      <td>8.999656</td>\n",
       "      <td>-0.397410</td>\n",
       "      <td>-31.769650</td>\n",
       "      <td>3.873494</td>\n",
       "      <td>0.255903</td>\n",
       "      <td>-5.713813</td>\n",
       "      <td>2.786370</td>\n",
       "      <td>28.037992</td>\n",
       "      <td>3.583793</td>\n",
       "      <td>...</td>\n",
       "      <td>19.629190</td>\n",
       "      <td>-0.578924</td>\n",
       "      <td>8.683254</td>\n",
       "      <td>1.959471</td>\n",
       "      <td>2.281506</td>\n",
       "      <td>-79.247119</td>\n",
       "      <td>-2.850041</td>\n",
       "      <td>-10.813797</td>\n",
       "      <td>-69.974758</td>\n",
       "      <td>-1.369170</td>\n",
       "    </tr>\n",
       "    <tr>\n",
       "      <th>4</th>\n",
       "      <td>7204</td>\n",
       "      <td>34.330833</td>\n",
       "      <td>-4.469938</td>\n",
       "      <td>-9.004407</td>\n",
       "      <td>-10.726552</td>\n",
       "      <td>-0.845002</td>\n",
       "      <td>0.722776</td>\n",
       "      <td>-1.836055</td>\n",
       "      <td>19.510244</td>\n",
       "      <td>2.785751</td>\n",
       "      <td>...</td>\n",
       "      <td>-5.110906</td>\n",
       "      <td>-2.840026</td>\n",
       "      <td>-7.043582</td>\n",
       "      <td>-28.169285</td>\n",
       "      <td>0.745229</td>\n",
       "      <td>70.852868</td>\n",
       "      <td>-5.185859</td>\n",
       "      <td>2.662763</td>\n",
       "      <td>-20.369640</td>\n",
       "      <td>7.001808</td>\n",
       "    </tr>\n",
       "  </tbody>\n",
       "</table>\n",
       "<p>5 rows × 251 columns</p>\n",
       "</div>"
      ],
      "text/plain": [
       "     id   feature0   feature1    feature2   feature3  feature4  feature5  \\\n",
       "0  7200 -76.795547 -12.319618 -109.961631 -11.006934 -8.770868 -1.246577   \n",
       "1  7201  15.860563  -5.344301   74.481876   1.267520  7.044210  6.391507   \n",
       "2  7202  21.243900  -7.539082  -13.128054  -7.283449  1.430600  8.113846   \n",
       "3  7203   8.999656  -0.397410  -31.769650   3.873494  0.255903 -5.713813   \n",
       "4  7204  34.330833  -4.469938   -9.004407 -10.726552 -0.845002  0.722776   \n",
       "\n",
       "   feature6   feature7  feature8  ...  feature240  feature241  feature242  \\\n",
       "0  3.875265  33.877412  7.757658  ...    5.515601   10.530372    6.887168   \n",
       "1 -7.713534  -1.336639  1.197008  ...   -4.515135    4.041697   -9.170853   \n",
       "2 -7.219936 -83.107625 -7.449005  ...   -1.748731   -2.171528   16.292004   \n",
       "3  2.786370  28.037992  3.583793  ...   19.629190   -0.578924    8.683254   \n",
       "4 -1.836055  19.510244  2.785751  ...   -5.110906   -2.840026   -7.043582   \n",
       "\n",
       "   feature243  feature244  feature245  feature246  feature247  feature248  \\\n",
       "0  -76.231907    3.374217 -128.668656    6.001156    2.619267  -14.869630   \n",
       "1  -38.501120    0.036281   22.997648   -4.050474  -16.322332  -54.813692   \n",
       "2   30.960787    0.380944  -86.906365   14.387590   -3.615364  160.603909   \n",
       "3    1.959471    2.281506  -79.247119   -2.850041  -10.813797  -69.974758   \n",
       "4  -28.169285    0.745229   70.852868   -5.185859    2.662763  -20.369640   \n",
       "\n",
       "   feature249  \n",
       "0   -4.718944  \n",
       "1   14.470087  \n",
       "2  -11.330304  \n",
       "3   -1.369170  \n",
       "4    7.001808  \n",
       "\n",
       "[5 rows x 251 columns]"
      ]
     },
     "execution_count": 56,
     "metadata": {},
     "output_type": "execute_result"
    }
   ],
   "source": [
    "test = pd.read_csv('test.csv')\n",
    "test.head()"
   ]
  },
  {
   "cell_type": "markdown",
   "metadata": {},
   "source": [
    "lets transform the data using PCA transformation"
   ]
  },
  {
   "cell_type": "code",
   "execution_count": 57,
   "metadata": {},
   "outputs": [
    {
     "data": {
      "text/plain": [
       "(4800, 251)"
      ]
     },
     "execution_count": 57,
     "metadata": {},
     "output_type": "execute_result"
    }
   ],
   "source": [
    "test.shape"
   ]
  },
  {
   "cell_type": "code",
   "execution_count": 58,
   "metadata": {},
   "outputs": [
    {
     "data": {
      "text/html": [
       "<div>\n",
       "<style scoped>\n",
       "    .dataframe tbody tr th:only-of-type {\n",
       "        vertical-align: middle;\n",
       "    }\n",
       "\n",
       "    .dataframe tbody tr th {\n",
       "        vertical-align: top;\n",
       "    }\n",
       "\n",
       "    .dataframe thead th {\n",
       "        text-align: right;\n",
       "    }\n",
       "</style>\n",
       "<table border=\"1\" class=\"dataframe\">\n",
       "  <thead>\n",
       "    <tr style=\"text-align: right;\">\n",
       "      <th></th>\n",
       "      <th>feature0</th>\n",
       "      <th>feature1</th>\n",
       "      <th>feature2</th>\n",
       "      <th>feature3</th>\n",
       "      <th>feature4</th>\n",
       "      <th>feature5</th>\n",
       "      <th>feature6</th>\n",
       "      <th>feature7</th>\n",
       "      <th>feature8</th>\n",
       "      <th>feature9</th>\n",
       "      <th>...</th>\n",
       "      <th>feature240</th>\n",
       "      <th>feature241</th>\n",
       "      <th>feature242</th>\n",
       "      <th>feature243</th>\n",
       "      <th>feature244</th>\n",
       "      <th>feature245</th>\n",
       "      <th>feature246</th>\n",
       "      <th>feature247</th>\n",
       "      <th>feature248</th>\n",
       "      <th>feature249</th>\n",
       "    </tr>\n",
       "  </thead>\n",
       "  <tbody>\n",
       "    <tr>\n",
       "      <th>0</th>\n",
       "      <td>-76.795547</td>\n",
       "      <td>-12.319618</td>\n",
       "      <td>-109.961631</td>\n",
       "      <td>-11.006934</td>\n",
       "      <td>-8.770868</td>\n",
       "      <td>-1.246577</td>\n",
       "      <td>3.875265</td>\n",
       "      <td>33.877412</td>\n",
       "      <td>7.757658</td>\n",
       "      <td>-4.003451</td>\n",
       "      <td>...</td>\n",
       "      <td>5.515601</td>\n",
       "      <td>10.530372</td>\n",
       "      <td>6.887168</td>\n",
       "      <td>-76.231907</td>\n",
       "      <td>3.374217</td>\n",
       "      <td>-128.668656</td>\n",
       "      <td>6.001156</td>\n",
       "      <td>2.619267</td>\n",
       "      <td>-14.869630</td>\n",
       "      <td>-4.718944</td>\n",
       "    </tr>\n",
       "    <tr>\n",
       "      <th>1</th>\n",
       "      <td>15.860563</td>\n",
       "      <td>-5.344301</td>\n",
       "      <td>74.481876</td>\n",
       "      <td>1.267520</td>\n",
       "      <td>7.044210</td>\n",
       "      <td>6.391507</td>\n",
       "      <td>-7.713534</td>\n",
       "      <td>-1.336639</td>\n",
       "      <td>1.197008</td>\n",
       "      <td>1.246036</td>\n",
       "      <td>...</td>\n",
       "      <td>-4.515135</td>\n",
       "      <td>4.041697</td>\n",
       "      <td>-9.170853</td>\n",
       "      <td>-38.501120</td>\n",
       "      <td>0.036281</td>\n",
       "      <td>22.997648</td>\n",
       "      <td>-4.050474</td>\n",
       "      <td>-16.322332</td>\n",
       "      <td>-54.813692</td>\n",
       "      <td>14.470087</td>\n",
       "    </tr>\n",
       "    <tr>\n",
       "      <th>2</th>\n",
       "      <td>21.243900</td>\n",
       "      <td>-7.539082</td>\n",
       "      <td>-13.128054</td>\n",
       "      <td>-7.283449</td>\n",
       "      <td>1.430600</td>\n",
       "      <td>8.113846</td>\n",
       "      <td>-7.219936</td>\n",
       "      <td>-83.107625</td>\n",
       "      <td>-7.449005</td>\n",
       "      <td>-4.787342</td>\n",
       "      <td>...</td>\n",
       "      <td>-1.748731</td>\n",
       "      <td>-2.171528</td>\n",
       "      <td>16.292004</td>\n",
       "      <td>30.960787</td>\n",
       "      <td>0.380944</td>\n",
       "      <td>-86.906365</td>\n",
       "      <td>14.387590</td>\n",
       "      <td>-3.615364</td>\n",
       "      <td>160.603909</td>\n",
       "      <td>-11.330304</td>\n",
       "    </tr>\n",
       "    <tr>\n",
       "      <th>3</th>\n",
       "      <td>8.999656</td>\n",
       "      <td>-0.397410</td>\n",
       "      <td>-31.769650</td>\n",
       "      <td>3.873494</td>\n",
       "      <td>0.255903</td>\n",
       "      <td>-5.713813</td>\n",
       "      <td>2.786370</td>\n",
       "      <td>28.037992</td>\n",
       "      <td>3.583793</td>\n",
       "      <td>-1.226325</td>\n",
       "      <td>...</td>\n",
       "      <td>19.629190</td>\n",
       "      <td>-0.578924</td>\n",
       "      <td>8.683254</td>\n",
       "      <td>1.959471</td>\n",
       "      <td>2.281506</td>\n",
       "      <td>-79.247119</td>\n",
       "      <td>-2.850041</td>\n",
       "      <td>-10.813797</td>\n",
       "      <td>-69.974758</td>\n",
       "      <td>-1.369170</td>\n",
       "    </tr>\n",
       "    <tr>\n",
       "      <th>4</th>\n",
       "      <td>34.330833</td>\n",
       "      <td>-4.469938</td>\n",
       "      <td>-9.004407</td>\n",
       "      <td>-10.726552</td>\n",
       "      <td>-0.845002</td>\n",
       "      <td>0.722776</td>\n",
       "      <td>-1.836055</td>\n",
       "      <td>19.510244</td>\n",
       "      <td>2.785751</td>\n",
       "      <td>-2.895020</td>\n",
       "      <td>...</td>\n",
       "      <td>-5.110906</td>\n",
       "      <td>-2.840026</td>\n",
       "      <td>-7.043582</td>\n",
       "      <td>-28.169285</td>\n",
       "      <td>0.745229</td>\n",
       "      <td>70.852868</td>\n",
       "      <td>-5.185859</td>\n",
       "      <td>2.662763</td>\n",
       "      <td>-20.369640</td>\n",
       "      <td>7.001808</td>\n",
       "    </tr>\n",
       "  </tbody>\n",
       "</table>\n",
       "<p>5 rows × 250 columns</p>\n",
       "</div>"
      ],
      "text/plain": [
       "    feature0   feature1    feature2   feature3  feature4  feature5  feature6  \\\n",
       "0 -76.795547 -12.319618 -109.961631 -11.006934 -8.770868 -1.246577  3.875265   \n",
       "1  15.860563  -5.344301   74.481876   1.267520  7.044210  6.391507 -7.713534   \n",
       "2  21.243900  -7.539082  -13.128054  -7.283449  1.430600  8.113846 -7.219936   \n",
       "3   8.999656  -0.397410  -31.769650   3.873494  0.255903 -5.713813  2.786370   \n",
       "4  34.330833  -4.469938   -9.004407 -10.726552 -0.845002  0.722776 -1.836055   \n",
       "\n",
       "    feature7  feature8  feature9  ...  feature240  feature241  feature242  \\\n",
       "0  33.877412  7.757658 -4.003451  ...    5.515601   10.530372    6.887168   \n",
       "1  -1.336639  1.197008  1.246036  ...   -4.515135    4.041697   -9.170853   \n",
       "2 -83.107625 -7.449005 -4.787342  ...   -1.748731   -2.171528   16.292004   \n",
       "3  28.037992  3.583793 -1.226325  ...   19.629190   -0.578924    8.683254   \n",
       "4  19.510244  2.785751 -2.895020  ...   -5.110906   -2.840026   -7.043582   \n",
       "\n",
       "   feature243  feature244  feature245  feature246  feature247  feature248  \\\n",
       "0  -76.231907    3.374217 -128.668656    6.001156    2.619267  -14.869630   \n",
       "1  -38.501120    0.036281   22.997648   -4.050474  -16.322332  -54.813692   \n",
       "2   30.960787    0.380944  -86.906365   14.387590   -3.615364  160.603909   \n",
       "3    1.959471    2.281506  -79.247119   -2.850041  -10.813797  -69.974758   \n",
       "4  -28.169285    0.745229   70.852868   -5.185859    2.662763  -20.369640   \n",
       "\n",
       "   feature249  \n",
       "0   -4.718944  \n",
       "1   14.470087  \n",
       "2  -11.330304  \n",
       "3   -1.369170  \n",
       "4    7.001808  \n",
       "\n",
       "[5 rows x 250 columns]"
      ]
     },
     "execution_count": 58,
     "metadata": {},
     "output_type": "execute_result"
    }
   ],
   "source": [
    "varib_test = test[test.columns[1:252]]\n",
    "varib_test.head()"
   ]
  },
  {
   "cell_type": "code",
   "execution_count": 59,
   "metadata": {},
   "outputs": [
    {
     "data": {
      "text/html": [
       "<div>\n",
       "<style scoped>\n",
       "    .dataframe tbody tr th:only-of-type {\n",
       "        vertical-align: middle;\n",
       "    }\n",
       "\n",
       "    .dataframe tbody tr th {\n",
       "        vertical-align: top;\n",
       "    }\n",
       "\n",
       "    .dataframe thead th {\n",
       "        text-align: right;\n",
       "    }\n",
       "</style>\n",
       "<table border=\"1\" class=\"dataframe\">\n",
       "  <thead>\n",
       "    <tr style=\"text-align: right;\">\n",
       "      <th></th>\n",
       "      <th>0</th>\n",
       "      <th>1</th>\n",
       "      <th>2</th>\n",
       "      <th>3</th>\n",
       "      <th>4</th>\n",
       "      <th>5</th>\n",
       "      <th>6</th>\n",
       "      <th>7</th>\n",
       "      <th>8</th>\n",
       "      <th>9</th>\n",
       "      <th>...</th>\n",
       "      <th>161</th>\n",
       "      <th>162</th>\n",
       "      <th>163</th>\n",
       "      <th>164</th>\n",
       "      <th>165</th>\n",
       "      <th>166</th>\n",
       "      <th>167</th>\n",
       "      <th>168</th>\n",
       "      <th>169</th>\n",
       "      <th>170</th>\n",
       "    </tr>\n",
       "  </thead>\n",
       "  <tbody>\n",
       "    <tr>\n",
       "      <th>0</th>\n",
       "      <td>139.140684</td>\n",
       "      <td>-1.686257</td>\n",
       "      <td>152.794179</td>\n",
       "      <td>33.708304</td>\n",
       "      <td>101.036819</td>\n",
       "      <td>66.038445</td>\n",
       "      <td>41.015960</td>\n",
       "      <td>-59.098069</td>\n",
       "      <td>-9.022778</td>\n",
       "      <td>-18.823446</td>\n",
       "      <td>...</td>\n",
       "      <td>-0.160270</td>\n",
       "      <td>8.713930</td>\n",
       "      <td>0.943364</td>\n",
       "      <td>12.732523</td>\n",
       "      <td>-8.116957</td>\n",
       "      <td>12.255437</td>\n",
       "      <td>-7.177633</td>\n",
       "      <td>10.862065</td>\n",
       "      <td>2.281750</td>\n",
       "      <td>-1.140750</td>\n",
       "    </tr>\n",
       "    <tr>\n",
       "      <th>1</th>\n",
       "      <td>-88.499740</td>\n",
       "      <td>-39.111166</td>\n",
       "      <td>17.502261</td>\n",
       "      <td>-16.228166</td>\n",
       "      <td>6.294465</td>\n",
       "      <td>-4.732554</td>\n",
       "      <td>-84.662052</td>\n",
       "      <td>10.904154</td>\n",
       "      <td>58.538459</td>\n",
       "      <td>29.880201</td>\n",
       "      <td>...</td>\n",
       "      <td>-3.220423</td>\n",
       "      <td>-7.310460</td>\n",
       "      <td>-5.256556</td>\n",
       "      <td>6.586925</td>\n",
       "      <td>16.739635</td>\n",
       "      <td>-4.119179</td>\n",
       "      <td>-1.599079</td>\n",
       "      <td>-6.324167</td>\n",
       "      <td>-1.741915</td>\n",
       "      <td>0.986431</td>\n",
       "    </tr>\n",
       "    <tr>\n",
       "      <th>2</th>\n",
       "      <td>65.005576</td>\n",
       "      <td>19.829687</td>\n",
       "      <td>-55.890738</td>\n",
       "      <td>-79.387423</td>\n",
       "      <td>-140.979718</td>\n",
       "      <td>-192.774670</td>\n",
       "      <td>137.707940</td>\n",
       "      <td>-154.667078</td>\n",
       "      <td>-68.221007</td>\n",
       "      <td>101.992166</td>\n",
       "      <td>...</td>\n",
       "      <td>-12.966883</td>\n",
       "      <td>23.202894</td>\n",
       "      <td>32.541119</td>\n",
       "      <td>24.593855</td>\n",
       "      <td>21.441786</td>\n",
       "      <td>-6.157702</td>\n",
       "      <td>-0.666000</td>\n",
       "      <td>9.317392</td>\n",
       "      <td>7.473276</td>\n",
       "      <td>-27.930306</td>\n",
       "    </tr>\n",
       "    <tr>\n",
       "      <th>3</th>\n",
       "      <td>69.999180</td>\n",
       "      <td>-18.320663</td>\n",
       "      <td>-30.084379</td>\n",
       "      <td>-32.353707</td>\n",
       "      <td>-29.246538</td>\n",
       "      <td>-2.131676</td>\n",
       "      <td>-57.250332</td>\n",
       "      <td>57.191430</td>\n",
       "      <td>-49.474159</td>\n",
       "      <td>17.026756</td>\n",
       "      <td>...</td>\n",
       "      <td>15.492582</td>\n",
       "      <td>8.322647</td>\n",
       "      <td>32.122489</td>\n",
       "      <td>7.886622</td>\n",
       "      <td>-13.792315</td>\n",
       "      <td>-1.596901</td>\n",
       "      <td>2.586708</td>\n",
       "      <td>0.364148</td>\n",
       "      <td>-7.920731</td>\n",
       "      <td>28.482060</td>\n",
       "    </tr>\n",
       "    <tr>\n",
       "      <th>4</th>\n",
       "      <td>-68.782463</td>\n",
       "      <td>51.404177</td>\n",
       "      <td>3.354197</td>\n",
       "      <td>-41.274213</td>\n",
       "      <td>-30.471113</td>\n",
       "      <td>-39.188835</td>\n",
       "      <td>22.972258</td>\n",
       "      <td>45.983283</td>\n",
       "      <td>47.811698</td>\n",
       "      <td>-30.889831</td>\n",
       "      <td>...</td>\n",
       "      <td>11.021506</td>\n",
       "      <td>-4.898881</td>\n",
       "      <td>-3.827252</td>\n",
       "      <td>-8.155138</td>\n",
       "      <td>-6.746637</td>\n",
       "      <td>-13.638107</td>\n",
       "      <td>-3.728549</td>\n",
       "      <td>-7.245157</td>\n",
       "      <td>-8.054540</td>\n",
       "      <td>-9.129635</td>\n",
       "    </tr>\n",
       "  </tbody>\n",
       "</table>\n",
       "<p>5 rows × 171 columns</p>\n",
       "</div>"
      ],
      "text/plain": [
       "          0          1           2          3           4           5    \\\n",
       "0  139.140684  -1.686257  152.794179  33.708304  101.036819   66.038445   \n",
       "1  -88.499740 -39.111166   17.502261 -16.228166    6.294465   -4.732554   \n",
       "2   65.005576  19.829687  -55.890738 -79.387423 -140.979718 -192.774670   \n",
       "3   69.999180 -18.320663  -30.084379 -32.353707  -29.246538   -2.131676   \n",
       "4  -68.782463  51.404177    3.354197 -41.274213  -30.471113  -39.188835   \n",
       "\n",
       "          6           7          8           9    ...        161        162  \\\n",
       "0   41.015960  -59.098069  -9.022778  -18.823446  ...  -0.160270   8.713930   \n",
       "1  -84.662052   10.904154  58.538459   29.880201  ...  -3.220423  -7.310460   \n",
       "2  137.707940 -154.667078 -68.221007  101.992166  ... -12.966883  23.202894   \n",
       "3  -57.250332   57.191430 -49.474159   17.026756  ...  15.492582   8.322647   \n",
       "4   22.972258   45.983283  47.811698  -30.889831  ...  11.021506  -4.898881   \n",
       "\n",
       "         163        164        165        166       167        168       169  \\\n",
       "0   0.943364  12.732523  -8.116957  12.255437 -7.177633  10.862065  2.281750   \n",
       "1  -5.256556   6.586925  16.739635  -4.119179 -1.599079  -6.324167 -1.741915   \n",
       "2  32.541119  24.593855  21.441786  -6.157702 -0.666000   9.317392  7.473276   \n",
       "3  32.122489   7.886622 -13.792315  -1.596901  2.586708   0.364148 -7.920731   \n",
       "4  -3.827252  -8.155138  -6.746637 -13.638107 -3.728549  -7.245157 -8.054540   \n",
       "\n",
       "         170  \n",
       "0  -1.140750  \n",
       "1   0.986431  \n",
       "2 -27.930306  \n",
       "3  28.482060  \n",
       "4  -9.129635  \n",
       "\n",
       "[5 rows x 171 columns]"
      ]
     },
     "execution_count": 59,
     "metadata": {},
     "output_type": "execute_result"
    }
   ],
   "source": [
    "df_test = pca.transform(varib_test) \n",
    "df_test = pd.DataFrame(df_test) # Here, we can not rename the columns as the number of columns has decreased from 250 to 172\n",
    "df_test.head()"
   ]
  },
  {
   "cell_type": "code",
   "execution_count": 60,
   "metadata": {},
   "outputs": [
    {
     "data": {
      "text/plain": [
       "(4800, 171)"
      ]
     },
     "execution_count": 60,
     "metadata": {},
     "output_type": "execute_result"
    }
   ],
   "source": [
    "df_test.shape"
   ]
  },
  {
   "cell_type": "markdown",
   "metadata": {},
   "source": [
    "Now we need to make prediction on this test data set"
   ]
  },
  {
   "cell_type": "markdown",
   "metadata": {},
   "source": [
    "Since, Support Vector Machine is the best model, we gonna use the same model for prediction."
   ]
  },
  {
   "cell_type": "code",
   "execution_count": 61,
   "metadata": {},
   "outputs": [],
   "source": [
    "Y_PRED = svm.predict(df_test)"
   ]
  },
  {
   "cell_type": "code",
   "execution_count": 62,
   "metadata": {},
   "outputs": [
    {
     "data": {
      "text/html": [
       "<div>\n",
       "<style scoped>\n",
       "    .dataframe tbody tr th:only-of-type {\n",
       "        vertical-align: middle;\n",
       "    }\n",
       "\n",
       "    .dataframe tbody tr th {\n",
       "        vertical-align: top;\n",
       "    }\n",
       "\n",
       "    .dataframe thead th {\n",
       "        text-align: right;\n",
       "    }\n",
       "</style>\n",
       "<table border=\"1\" class=\"dataframe\">\n",
       "  <thead>\n",
       "    <tr style=\"text-align: right;\">\n",
       "      <th></th>\n",
       "      <th>0</th>\n",
       "    </tr>\n",
       "  </thead>\n",
       "  <tbody>\n",
       "    <tr>\n",
       "      <th>0</th>\n",
       "      <td>4</td>\n",
       "    </tr>\n",
       "    <tr>\n",
       "      <th>1</th>\n",
       "      <td>2</td>\n",
       "    </tr>\n",
       "    <tr>\n",
       "      <th>2</th>\n",
       "      <td>2</td>\n",
       "    </tr>\n",
       "    <tr>\n",
       "      <th>3</th>\n",
       "      <td>4</td>\n",
       "    </tr>\n",
       "    <tr>\n",
       "      <th>4</th>\n",
       "      <td>4</td>\n",
       "    </tr>\n",
       "  </tbody>\n",
       "</table>\n",
       "</div>"
      ],
      "text/plain": [
       "   0\n",
       "0  4\n",
       "1  2\n",
       "2  2\n",
       "3  4\n",
       "4  4"
      ]
     },
     "execution_count": 62,
     "metadata": {},
     "output_type": "execute_result"
    }
   ],
   "source": [
    "Y_Pred = pd.DataFrame(Y_PRED)\n",
    "Y_Pred.head()"
   ]
  },
  {
   "cell_type": "code",
   "execution_count": 63,
   "metadata": {},
   "outputs": [],
   "source": [
    "Y_Pred.rename(columns ={0: 'label'}, inplace = True)"
   ]
  },
  {
   "cell_type": "code",
   "execution_count": 64,
   "metadata": {},
   "outputs": [
    {
     "data": {
      "text/html": [
       "<div>\n",
       "<style scoped>\n",
       "    .dataframe tbody tr th:only-of-type {\n",
       "        vertical-align: middle;\n",
       "    }\n",
       "\n",
       "    .dataframe tbody tr th {\n",
       "        vertical-align: top;\n",
       "    }\n",
       "\n",
       "    .dataframe thead th {\n",
       "        text-align: right;\n",
       "    }\n",
       "</style>\n",
       "<table border=\"1\" class=\"dataframe\">\n",
       "  <thead>\n",
       "    <tr style=\"text-align: right;\">\n",
       "      <th></th>\n",
       "      <th>label</th>\n",
       "    </tr>\n",
       "  </thead>\n",
       "  <tbody>\n",
       "    <tr>\n",
       "      <th>0</th>\n",
       "      <td>4</td>\n",
       "    </tr>\n",
       "    <tr>\n",
       "      <th>1</th>\n",
       "      <td>2</td>\n",
       "    </tr>\n",
       "    <tr>\n",
       "      <th>2</th>\n",
       "      <td>2</td>\n",
       "    </tr>\n",
       "    <tr>\n",
       "      <th>3</th>\n",
       "      <td>4</td>\n",
       "    </tr>\n",
       "    <tr>\n",
       "      <th>4</th>\n",
       "      <td>4</td>\n",
       "    </tr>\n",
       "  </tbody>\n",
       "</table>\n",
       "</div>"
      ],
      "text/plain": [
       "   label\n",
       "0      4\n",
       "1      2\n",
       "2      2\n",
       "3      4\n",
       "4      4"
      ]
     },
     "execution_count": 64,
     "metadata": {},
     "output_type": "execute_result"
    }
   ],
   "source": [
    "Y_Pred.head()"
   ]
  },
  {
   "cell_type": "code",
   "execution_count": 65,
   "metadata": {},
   "outputs": [
    {
     "data": {
      "text/html": [
       "<div>\n",
       "<style scoped>\n",
       "    .dataframe tbody tr th:only-of-type {\n",
       "        vertical-align: middle;\n",
       "    }\n",
       "\n",
       "    .dataframe tbody tr th {\n",
       "        vertical-align: top;\n",
       "    }\n",
       "\n",
       "    .dataframe thead th {\n",
       "        text-align: right;\n",
       "    }\n",
       "</style>\n",
       "<table border=\"1\" class=\"dataframe\">\n",
       "  <thead>\n",
       "    <tr style=\"text-align: right;\">\n",
       "      <th></th>\n",
       "      <th>id</th>\n",
       "    </tr>\n",
       "  </thead>\n",
       "  <tbody>\n",
       "    <tr>\n",
       "      <th>0</th>\n",
       "      <td>7200</td>\n",
       "    </tr>\n",
       "    <tr>\n",
       "      <th>1</th>\n",
       "      <td>7201</td>\n",
       "    </tr>\n",
       "    <tr>\n",
       "      <th>2</th>\n",
       "      <td>7202</td>\n",
       "    </tr>\n",
       "    <tr>\n",
       "      <th>3</th>\n",
       "      <td>7203</td>\n",
       "    </tr>\n",
       "    <tr>\n",
       "      <th>4</th>\n",
       "      <td>7204</td>\n",
       "    </tr>\n",
       "  </tbody>\n",
       "</table>\n",
       "</div>"
      ],
      "text/plain": [
       "     id\n",
       "0  7200\n",
       "1  7201\n",
       "2  7202\n",
       "3  7203\n",
       "4  7204"
      ]
     },
     "execution_count": 65,
     "metadata": {},
     "output_type": "execute_result"
    }
   ],
   "source": [
    "id_test = test[test.columns[0]]\n",
    "test_id = pd.DataFrame(id_test)\n",
    "test_id.head()"
   ]
  },
  {
   "cell_type": "code",
   "execution_count": 66,
   "metadata": {},
   "outputs": [
    {
     "data": {
      "text/html": [
       "<div>\n",
       "<style scoped>\n",
       "    .dataframe tbody tr th:only-of-type {\n",
       "        vertical-align: middle;\n",
       "    }\n",
       "\n",
       "    .dataframe tbody tr th {\n",
       "        vertical-align: top;\n",
       "    }\n",
       "\n",
       "    .dataframe thead th {\n",
       "        text-align: right;\n",
       "    }\n",
       "</style>\n",
       "<table border=\"1\" class=\"dataframe\">\n",
       "  <thead>\n",
       "    <tr style=\"text-align: right;\">\n",
       "      <th></th>\n",
       "      <th>id</th>\n",
       "      <th>label</th>\n",
       "    </tr>\n",
       "  </thead>\n",
       "  <tbody>\n",
       "    <tr>\n",
       "      <th>0</th>\n",
       "      <td>7200</td>\n",
       "      <td>4</td>\n",
       "    </tr>\n",
       "    <tr>\n",
       "      <th>1</th>\n",
       "      <td>7201</td>\n",
       "      <td>2</td>\n",
       "    </tr>\n",
       "    <tr>\n",
       "      <th>2</th>\n",
       "      <td>7202</td>\n",
       "      <td>2</td>\n",
       "    </tr>\n",
       "    <tr>\n",
       "      <th>3</th>\n",
       "      <td>7203</td>\n",
       "      <td>4</td>\n",
       "    </tr>\n",
       "    <tr>\n",
       "      <th>4</th>\n",
       "      <td>7204</td>\n",
       "      <td>4</td>\n",
       "    </tr>\n",
       "  </tbody>\n",
       "</table>\n",
       "</div>"
      ],
      "text/plain": [
       "     id  label\n",
       "0  7200      4\n",
       "1  7201      2\n",
       "2  7202      2\n",
       "3  7203      4\n",
       "4  7204      4"
      ]
     },
     "execution_count": 66,
     "metadata": {},
     "output_type": "execute_result"
    }
   ],
   "source": [
    "Pred_Data = pd.concat([test_id, Y_Pred], axis=1)\n",
    "Pred_Data.head()"
   ]
  },
  {
   "cell_type": "code",
   "execution_count": 67,
   "metadata": {},
   "outputs": [
    {
     "data": {
      "text/plain": [
       "0    999\n",
       "3    983\n",
       "1    981\n",
       "4    933\n",
       "2    904\n",
       "Name: label, dtype: int64"
      ]
     },
     "execution_count": 67,
     "metadata": {},
     "output_type": "execute_result"
    }
   ],
   "source": [
    "Pred_Data['label'].value_counts()"
   ]
  },
  {
   "cell_type": "code",
   "execution_count": 68,
   "metadata": {},
   "outputs": [],
   "source": [
    "Pred_Data.to_csv('Final_Result.csv')"
   ]
  },
  {
   "cell_type": "code",
   "execution_count": null,
   "metadata": {},
   "outputs": [],
   "source": []
  },
  {
   "cell_type": "markdown",
   "metadata": {},
   "source": []
  }
 ],
 "metadata": {
  "kernelspec": {
   "display_name": "Python 3",
   "language": "python",
   "name": "python3"
  },
  "language_info": {
   "codemirror_mode": {
    "name": "ipython",
    "version": 3
   },
   "file_extension": ".py",
   "mimetype": "text/x-python",
   "name": "python",
   "nbconvert_exporter": "python",
   "pygments_lexer": "ipython3",
   "version": "3.7.3"
  }
 },
 "nbformat": 4,
 "nbformat_minor": 2
}
